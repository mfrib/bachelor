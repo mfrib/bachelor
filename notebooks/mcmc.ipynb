{
 "cells": [
  {
   "cell_type": "code",
   "execution_count": null,
   "metadata": {},
   "outputs": [],
   "source": [
    "import numpy as np  \n",
    "import matplotlib.pyplot as plt  \n",
    "import astropy.constants as c  \n",
    "import astropy.units as u  \n",
    "\n",
    "year = (1*u.year).cgs.value\n",
    "au   = c.au.cgs.value\n",
    "\n",
    "from simple_slider import Widget\n",
    "from simple_slider import kanagawa_profile\n",
    "from simple_slider import get_surface_density\n",
    "\n",
    "%matplotlib notebook"
   ]
  },
  {
   "cell_type": "code",
   "execution_count": null,
   "metadata": {
    "scrolled": true
   },
   "outputs": [],
   "source": [
    "w = Widget()"
   ]
  },
  {
   "cell_type": "markdown",
   "metadata": {},
   "source": [
    "Get the data from the widget"
   ]
  },
  {
   "cell_type": "code",
   "execution_count": null,
   "metadata": {},
   "outputs": [],
   "source": [
    "time   = w.t\n",
    "\n",
    "t = time.searchsorted(1e6 * year)\n",
    "\n",
    "r   = w.r\n",
    "sig = w.sigma[:, t]"
   ]
  },
  {
   "cell_type": "markdown",
   "metadata": {},
   "source": [
    "Plot the data"
   ]
  },
  {
   "cell_type": "code",
   "execution_count": null,
   "metadata": {},
   "outputs": [],
   "source": [
    "f, ax = plt.subplots()\n",
    "ax.loglog(r / au, sig)"
   ]
  },
  {
   "cell_type": "markdown",
   "metadata": {},
   "source": [
    "Define the logp function: create a model based on the parameters and compare it to the data"
   ]
  },
  {
   "cell_type": "code",
   "execution_count": null,
   "metadata": {},
   "outputs": [],
   "source": [
    "def logp(params, x_data, y_data, n_planets):\n",
    "    \n",
    "    # convert parameter to physical values\n",
    "    \n",
    "    alpha = params[0]\n",
    "    ...\n",
    "    \n",
    "    # construct the model\n",
    "    \n",
    "    sig_model = get_surface_density(x_data, alpha, sig0, p, R_p, h_p, mass_ratios)\n",
    "    \n",
    "    # calculate logP\n",
    "    \n",
    "    logP = ...\n",
    "    \n",
    "    return logP"
   ]
  },
  {
   "cell_type": "markdown",
   "metadata": {},
   "source": [
    "Test if logP works"
   ]
  },
  {
   "cell_type": "code",
   "execution_count": null,
   "metadata": {},
   "outputs": [],
   "source": [
    "logp([10, -0.9, 1e3, 60* au, M_jup], r, sig, 1)\n",
    "# should return a number"
   ]
  },
  {
   "cell_type": "markdown",
   "metadata": {},
   "source": [
    "Now optimize it "
   ]
  },
  {
   "cell_type": "code",
   "execution_count": null,
   "metadata": {},
   "outputs": [],
   "source": [
    "!jupyter nbconvert --to python mcmc.ipynb"
   ]
  }
 ],
 "metadata": {
  "kernelspec": {
   "display_name": "Python 3",
   "language": "python",
   "name": "python3"
  },
  "language_info": {
   "codemirror_mode": {
    "name": "ipython",
    "version": 3
   },
   "file_extension": ".py",
   "mimetype": "text/x-python",
   "name": "python",
   "nbconvert_exporter": "python",
   "pygments_lexer": "ipython3",
   "version": "3.7.4"
  }
 },
 "nbformat": 4,
 "nbformat_minor": 4
}
