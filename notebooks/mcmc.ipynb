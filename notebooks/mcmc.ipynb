{
 "cells": [
  {
   "cell_type": "code",
   "execution_count": null,
   "metadata": {},
   "outputs": [],
   "source": [
    "import numpy as np  \n",
    "import matplotlib.pyplot as plt  \n",
    "import astropy.constants as c  \n",
    "import astropy.units as u  \n",
    "\n",
    "year  = (1*u.year).cgs.value\n",
    "au    = c.au.cgs.value\n",
    "M_jup = c.M_jup.cgs.value\n",
    "M_sun = c.M_sun.cgs.value\n",
    "\n",
    "gl_alpha = None\n",
    "\n",
    "import os\n",
    "import simple_slider\n",
    "\n",
    "from simple_slider import Widget\n",
    "from simple_slider import kanagawa_profile\n",
    "from simple_slider import get_surface_density\n",
    "from simple_slider import get_disk_height\n",
    "\n",
    "from log_prob import log_prob_, conv_values, log_prob_alpha, params_format\n",
    "\n",
    "%matplotlib notebook"
   ]
  },
  {
   "cell_type": "code",
   "execution_count": null,
   "metadata": {},
   "outputs": [],
   "source": [
    "true_alpha = [None, 1e-2, 1e-2, 1e-3, 1e-3, 1e-2, 1e-2, 1e-2, 1e-3, 1e-3, 1e-3, 1e-4, 1e-4, 1e-4,]\n",
    "M_true_all = [1, 1e-3, 4e-4, 1e-3, 4e-4, 3e-3, 1e-3, 3e-4, 3e-3, 1e-3, 3e-4, 3e-3, 1e-3, 3e-4]"
   ]
  },
  {
   "cell_type": "raw",
   "metadata": {},
   "source": [
    "new_choose = 0"
   ]
  },
  {
   "cell_type": "markdown",
   "metadata": {},
   "source": [
    "Select number of planets\n",
    "\n",
    "Optional: Set desired alpha\n",
    "\n",
    "Choose data set"
   ]
  },
  {
   "cell_type": "code",
   "execution_count": null,
   "metadata": {},
   "outputs": [],
   "source": [
    "##################\n",
    "gl_n_planets = 1\n",
    "##################\n",
    "choose = 5\n",
    "clow   = 5\n",
    "chigh  = 13\n",
    "##################\n",
    "# Ignore Gap Depth {0,1,2} (only naming convetion)\n",
    "IGD = 1\n",
    "# SaVefig: {0,1,2} {off/corner&plot/all} \n",
    "SV  = 0\n",
    "##################\n",
    "gl_alpha = 1e-3\n",
    "##################"
   ]
  },
  {
   "cell_type": "code",
   "execution_count": null,
   "metadata": {},
   "outputs": [],
   "source": [
    "try:\n",
    "    if new_choose < len(switcher):\n",
    "        choose = new_choose\n",
    "except Exception:\n",
    "    new_choose = choose\n",
    "\n",
    "M_true = M_true_all[choose]\n",
    "gl_alpha = true_alpha[choose]\n",
    "#gl_alpha = 1e-3\n",
    "\n",
    "try:\n",
    "    set_alpha = int(gl_alpha**0)\n",
    "except Exception:\n",
    "    set_alpha = 0"
   ]
  },
  {
   "cell_type": "code",
   "execution_count": null,
   "metadata": {
    "scrolled": false
   },
   "outputs": [],
   "source": [
    "switcher = {0:\"data_1_planet\", 1:\"data_one_planet_a1e-2_M1e-3\",2:\"data_one_planet_a1e-2_M4e-4\",\n",
    "            3:\"data_one_planet_a1e-3_M1e-3\",4:\"data_one_planet_a1e-3_M4e-4\", \n",
    "            6:\"data_planets_scalefree_a1e-2_mu1e-3_r100\", 5:\"data_planets_scalefree_a1e-2_mu3e-3_r100\",\n",
    "            7:\"data_planets_scalefree_a1e-2_mu3e-4_r100\", 9:\"data_planets_scalefree_a1e-3_mu1e-3_r100\",\n",
    "            8:\"data_planets_scalefree_a1e-3_mu3e-3_r100\", 10:\"data_planets_scalefree_a1e-3_mu3e-4_r100\",\n",
    "            12:\"data_planets_scalefree_a1e-4_mu1e-3_r100\", 11:\"data_planets_scalefree_a1e-4_mu3e-3_r100\", \n",
    "            13:\"data_planets_scalefree_a1e-4_mu3e-4_r100\"}\n",
    "\n",
    "if gl_n_planets == 3:\n",
    "    data_dir = simple_slider.pkg_resources.resource_filename(simple_slider.__name__, 'data_3_planets')\n",
    "else:\n",
    "    data_dir = simple_slider.pkg_resources.resource_filename(simple_slider.__name__, switcher[choose])\n",
    "\n",
    "r = (np.loadtxt(os.path.join(data_dir, 'radius.dat')))\n",
    "sigma = np.loadtxt(os.path.join(data_dir, 'sigma_averaged.dat'), unpack=1)\n",
    "\n",
    "IGDn = ['','IGD_','IGD_'][IGD]\n",
    "alphan = ['a-var_',''][set_alpha]\n",
    "addn = \"figures\\\\\"+alphan+IGDn\n",
    "addc = \"_C\"+str(choose)+['','','_2p','_3p'][gl_n_planets]"
   ]
  },
  {
   "cell_type": "markdown",
   "metadata": {},
   "source": [
    "Interpolate on a log grid and select snapshot"
   ]
  },
  {
   "cell_type": "code",
   "execution_count": null,
   "metadata": {
    "scrolled": false
   },
   "outputs": [],
   "source": [
    "n_points = 500\n",
    "r_log = np.logspace(np.log10(20), np.log10(400), n_points) * au\n",
    "\n",
    "try:\n",
    "    time  = np.loadtxt(os.path.join(data_dir, 'time.dat'))\n",
    "    #t    = time.searchsorted(5 * 1e4 * year)\n",
    "    t     = -1\n",
    "    sigma = sigma[:, t]\n",
    "except Exception:\n",
    "    None\n",
    "    \n",
    "sig = 10.**np.array(np.interp(np.log10(r_log), np.log10(r), np.log10(sigma)))\n",
    "\n",
    "# load the relative error\n",
    "# produces more incosistent results after some trials\n",
    "\"\"\"\n",
    "if choose != 0:\n",
    "    error = np.loadtxt(os.path.join(data_dir, 'relative_error.dat'))\n",
    "    err = 10.**np.array(np.interp(np.log10(r_log), np.log10(r), np.log10(error)))\n",
    "    y_pack = [sig,err*sig]\n",
    "else:\n",
    "    y_pack = [sig,0.05]\n",
    "\"\"\";"
   ]
  },
  {
   "cell_type": "raw",
   "metadata": {},
   "source": [
    "# find local minima function and plot\n",
    "\n",
    "from scipy.signal import argrelmax\n",
    "diff_line = (np.logspace(np.log10(sig[0]), np.log10(sig[-1]), n_points))/sig\n",
    "try:\n",
    "    min_pos = argrelmax(diff_line, order=int(n_points/25))[0]\n",
    "    ind_mins = np.argpartition(diff_line[min_pos],-gl_n_planets)[-gl_n_planets:]\n",
    "    rps = r_log[min_pos[ind_mins]]\n",
    "except Exception:\n",
    "    rps = r_log[[145,269]]/au\n",
    "f9, ax9 = plt.subplots(figsize=(8, 8))\n",
    "y_line = np.logspace(np.log10(sig[0]), np.log10(sig[-1]), n_points)\n",
    "diff_line = y_line/sig\n",
    "argrelmax(diff_line, order=int(n_points/33))\n",
    "ax9.semilogy(np.arange(n_points), sig[0:], \"k-\")\n",
    "ax9.semilogy(np.arange(n_points), y_line, \"k-\")\n",
    "ax9.semilogy(np.arange(n_points), diff_line, \"b-\")\n",
    "rps"
   ]
  },
  {
   "cell_type": "code",
   "execution_count": null,
   "metadata": {
    "scrolled": true
   },
   "outputs": [],
   "source": [
    "import emcee\n",
    "from multiprocessing import Pool\n",
    "from scipy.signal import argrelmax\n",
    "\n",
    "#################\n",
    "np.random.seed(0)\n",
    "#################\n",
    "\n",
    "nwalkers = 300\n",
    "ndim = 3 + 2 * gl_n_planets - set_alpha\n",
    "n_burnin = 500\n",
    "n_steps = 700\n",
    "pos = np.random.rand(nwalkers, ndim)\n",
    "\n",
    "if gl_alpha is not None:\n",
    "    pos = np.insert(pos,0,0,axis=1)\n",
    "\n",
    "pos = conv_values(pos, r_log, gl_n_planets)\n",
    "\n",
    "\n",
    "# starting guess for position\n",
    "\"\"\"\n",
    "try:\n",
    "    # find all minima\n",
    "    diff_line = (np.logspace(np.log10(sig[0]), np.log10(sig[-1]), n_points))/sig\n",
    "    min_pos = argrelmax(diff_line, order=int(n_points/25))[0]\n",
    "    # only use most distinct peaks as guesses for R_p\n",
    "    ind_mins = np.argpartition(diff_line[min_pos],-gl_n_planets)[-gl_n_planets:]\n",
    "    rps = r_log[min_pos[ind_mins]]\n",
    "except Exception:\n",
    "    # Exception for C8 and C9\n",
    "    rps = r_log[[145,269]]\n",
    "\n",
    "pos[:,3::2] = (rps[:,None]*(1+np.random.randn(gl_n_planets, pos.shape[0])*0.025)).T\n",
    "\"\"\" \n",
    "\n",
    "# mask for prior function\n",
    "masks = [conv_values(np.ones_like(pos[0]), r_log, gl_n_planets), conv_values(np.zeros_like(pos[0]), r_log, gl_n_planets)]\n",
    "\n",
    "if gl_alpha is not None:\n",
    "    pos = pos[:,1:]\n",
    "    #masks = np.array(masks)[:,1:]"
   ]
  },
  {
   "cell_type": "markdown",
   "metadata": {},
   "source": [
    "Old methods for finding minima with 3 planets (backup, should the new one fail)"
   ]
  },
  {
   "cell_type": "markdown",
   "metadata": {},
   "source": [
    "if gl_n_planets == 3:\n",
    "    # find local minima\n",
    "    from scipy.signal import argrelmin\n",
    "    #peaks_mask = argrelmin(sig, order=int(n_points/33))\n",
    "    #rps = r_log[peaks_mask]\n",
    "    # place Gaussians around minima as starting guesses\n",
    "    \"\"\"pos[:,3] = (rps[0]*(1+np.random.randn(pos.shape[0])*0.025))\n",
    "    pos[:,5] = (rps[1]*(1+np.random.randn(pos.shape[0])*0.025))\n",
    "    pos[:,7] = (rps[2]*(1+np.random.randn(pos.shape[0])*0.025))\"\"\"\n",
    "    #pos[:,3::2] = rps[:,None]*(1+np.random.randn(pos.shape[0])*0.025)\n",
    "    \"\"\"\n",
    "    pos[:,5] = 0.35 * pos[:,5] + 60*au\n",
    "    pos[:,3] = (np.random.rand(nwalkers)*0.3+0.5)*pos[:,5]\n",
    "    pos[:,7] = (np.random.rand(nwalkers)*0.75+1.25)*pos[:,5]\"\"\""
   ]
  },
  {
   "cell_type": "code",
   "execution_count": null,
   "metadata": {},
   "outputs": [],
   "source": [
    "with Pool() as pool:\n",
    "    if gl_alpha is None:\n",
    "        sampler = emcee.EnsembleSampler(nwalkers, ndim, log_prob_, args=(r_log, sig, gl_n_planets, masks), pool=pool)\n",
    "    else:\n",
    "        sampler = emcee.EnsembleSampler(nwalkers, ndim, log_prob_alpha, \n",
    "                                        args=(r_log, sig, gl_n_planets, masks, gl_alpha), pool=pool)\n",
    "        \n",
    "    state = sampler.run_mcmc(pos, n_burnin, progress=True)\n",
    "    \n",
    "    # copy states of sampler for revision to be plotted later\n",
    "    midlnprob_shape, midlnprob_val = np.arange(sampler.lnprobability.shape[-1]), -sampler.lnprobability.T\n",
    "    samples5 = sampler.get_chain()\n",
    "    \n",
    "    new_pos             = state.coords.copy()\n",
    "    # set multiplier at the end to ~1.15 to remove single outliers\n",
    "    good_mask           = sampler.lnprobability[:, -1] > np.median(sampler.lnprobability[:, -1]) * 1.1\n",
    "    good_indices        = np.where(good_mask)[0]\n",
    "    new_good_indices    = np.random.choice(good_indices, size=(~good_mask).sum())\n",
    "    new_pos[~good_mask] = new_pos[new_good_indices]\n",
    "\n",
    "    sampler.reset()\n",
    "\n",
    "    sampler.run_mcmc(new_pos, n_steps, progress=True)"
   ]
  },
  {
   "cell_type": "code",
   "execution_count": null,
   "metadata": {
    "scrolled": true
   },
   "outputs": [],
   "source": [
    "print(\"Mean acceptance fraction: {0:.3f}\".format(np.mean(sampler.acceptance_fraction)))\n",
    "try:\n",
    "    print(sampler.get_autocorr_time())\n",
    "except Exception as e: \n",
    "    print(e)\n",
    "\n",
    "print(\"#new good indices:\",len(new_good_indices))"
   ]
  },
  {
   "cell_type": "code",
   "execution_count": null,
   "metadata": {},
   "outputs": [],
   "source": [
    "f0, ax0 = plt.subplots(figsize=(10, 5))\n",
    "ax0.semilogy(midlnprob_shape, midlnprob_val)\n",
    "ax0.set_xlabel(\"step number\");\n",
    "ax0.set_ylabel(\"ln probability\");\n",
    "plt.tight_layout(pad=1);\n",
    "if SV == 2:\n",
    "    plt.savefig(addn+'lnprob_burnin_'+str(len(new_good_indices))+addc+'.png',dpi=150)"
   ]
  },
  {
   "cell_type": "code",
   "execution_count": null,
   "metadata": {},
   "outputs": [],
   "source": [
    "f, ax = plt.subplots(figsize=(10, 5))\n",
    "ax.semilogy(np.arange(sampler.lnprobability.shape[-1]), -sampler.lnprobability.T)\n",
    "ax.set_xlabel(\"step number\")\n",
    "ax.set_ylabel(\"ln probability\");\n",
    "plt.tight_layout(pad=1);\n",
    "if SV == 2:\n",
    "    plt.savefig(addn+'lnprob'+addc+'.png',dpi=150)"
   ]
  },
  {
   "cell_type": "raw",
   "metadata": {},
   "source": [
    "sum(-sampler.lnprobability[:,-1]>9.5e2)"
   ]
  },
  {
   "cell_type": "code",
   "execution_count": null,
   "metadata": {},
   "outputs": [],
   "source": [
    "# finding the indices for the planetary positions, regardless of alpha\n",
    "# this won't work if another parameter is added within a similar order of magnitude as R_p in SI units\n",
    "\n",
    "samples_AU = sampler.get_chain().copy()\n",
    "samples5_AU = samples5.copy()\n",
    "flat_samples_AU = sampler.get_chain(discard=300, flat=True).copy()\n",
    "\n",
    "Rp_idx = samples_AU[-1,-1]>1000\n",
    "samples_AU[:,:,Rp_idx] *= 1/au\n",
    "samples5_AU[:,:,Rp_idx] *= 1/au\n",
    "\n",
    "if IGD == 2 and gl_n_planets == 2:\n",
    "    flat_samples_AU = np.delete(flat_samples_AU, (2,3), 1)\n",
    "    Rp_idx = np.delete(Rp_idx,(2,3),0)\n",
    "\n",
    "flat_samples_AU[:,Rp_idx] *= 1/au"
   ]
  },
  {
   "cell_type": "code",
   "execution_count": null,
   "metadata": {},
   "outputs": [],
   "source": [
    "fig5, axes5 = plt.subplots(ndim, figsize=(12, 8), sharex=True)\n",
    "labels = [\"alpha\", \"sig0\", \"p\"]\n",
    "\n",
    "if set_alpha == 1:\n",
    "    labels = labels[1:]\n",
    "\n",
    "for i in range(gl_n_planets):\n",
    "    labels.append(r\"$R_{p\"+str(i+1)+r\"}$\"+\" [AU]\")\n",
    "    labels.append(r\"$\\mu_\"+str(i+1)+r\"$\")\n",
    "    \n",
    "for i in range(ndim):\n",
    "    ax5 = axes5[i]\n",
    "    ax5.plot(samples5_AU[:, :, i], \"k\", alpha=0.3)\n",
    "    ax5.set_xlim(0, len(samples5_AU))\n",
    "    ax5.set_ylabel(labels[i])\n",
    "    ax5.yaxis.set_label_coords(-0.1, 0.5)\n",
    "    ax5.set_yscale('log')\n",
    "\n",
    "axes5[-1].set_xlabel(\"step number\");\n",
    "plt.tight_layout(pad=1);\n",
    "if SV == 2 and choose == 0:\n",
    "    plt.savefig(addn+'vars5'+addc+'.png',dpi=150)"
   ]
  },
  {
   "cell_type": "code",
   "execution_count": null,
   "metadata": {
    "scrolled": false
   },
   "outputs": [],
   "source": [
    "fig, axes = plt.subplots(ndim, figsize=(12, 8), sharex=True)\n",
    "\"\"\"labels = [\"alpha\", \"sig0\", \"p\"]\n",
    "\n",
    "if set_alpha == 1:\n",
    "    labels = labels[1:]\n",
    "    \n",
    "for i in range(gl_n_planets):\n",
    "    labels.append(\"R_p\"+str(i+1)+\"[AU]\")\n",
    "    labels.append(\"mu\"+str(i+1))\"\"\"\n",
    "    \n",
    "for i in range(ndim):\n",
    "    ax = axes[i]\n",
    "    ax.plot(samples_AU[:, :, i], \"k\", alpha=0.3)\n",
    "    ax.set_xlim(0, len(samples_AU))\n",
    "    ax.set_ylabel(labels[i])\n",
    "    ax.yaxis.set_label_coords(-0.1, 0.5)\n",
    "    #ax.set_yscale('log')\n",
    "\n",
    "axes[-1].set_xlabel(\"step number\");\n",
    "plt.tight_layout(pad=1);\n",
    "if SV == 2:\n",
    "    plt.savefig(addn+'vars'+addc+'.png',dpi=150)"
   ]
  },
  {
   "cell_type": "code",
   "execution_count": null,
   "metadata": {},
   "outputs": [],
   "source": [
    "import corner\n",
    "fig = corner.corner(flat_samples_AU, labels=labels, quantiles=[0.16, 0.5, 0.84]);\n",
    "#plt.tight_layout(pad=1);\n",
    "if np.any(SV == np.array([1,2])):\n",
    "    plt.savefig(addn+'corner'+addc+'.png',dpi=150)\n",
    "#plt.savefig(addn+'corner'+addc+'_nosmooth.png',dpi=150)"
   ]
  },
  {
   "cell_type": "code",
   "execution_count": null,
   "metadata": {},
   "outputs": [],
   "source": [
    "if set_alpha == 1:\n",
    "    def params_format(params, x_data, y_data, n_planets):\n",
    "        params      = np.insert(params,0,gl_alpha)\n",
    "        alpha       = params[0]\n",
    "        sig0        = params[1]\n",
    "        p           = params[2]\n",
    "        R_p         = []\n",
    "        mass_ratios = []\n",
    "        \n",
    "        for n in range(n_planets):\n",
    "            R_p         += [params[3 + 2 * n]]\n",
    "            mass_ratios += [params[4 + 2 * n]]\n",
    "            \n",
    "        h_p = get_disk_height(np.array(R_p)).tolist()\n",
    "\n",
    "        return x_data, alpha, sig0, p, R_p, h_p, mass_ratios"
   ]
  },
  {
   "cell_type": "code",
   "execution_count": null,
   "metadata": {},
   "outputs": [],
   "source": [
    "samples = sampler.get_chain()\n",
    "flat_samples = sampler.get_chain(discard=300, flat=True)\n",
    "percentiles = np.percentile(flat_samples,[16,50,84], axis=0)\n",
    "mcmc = percentiles[1].tolist()"
   ]
  },
  {
   "cell_type": "code",
   "execution_count": null,
   "metadata": {},
   "outputs": [],
   "source": [
    "if np.any(SV == np.array([1,2])):\n",
    "    np.save('samples\\\\'+alphan+IGDn+'samples'+addc,samples)"
   ]
  },
  {
   "cell_type": "code",
   "execution_count": null,
   "metadata": {
    "scrolled": true
   },
   "outputs": [],
   "source": [
    "percentiles_AU = np.percentile(flat_samples_AU,[16,50,84], axis=0)\n",
    "means_AU = np.mean(flat_samples_AU, axis=0).tolist()\n",
    "mcmc_AU = percentiles[1].tolist()\n",
    "mass_percentile = percentiles_AU[:,-1].tolist()\n",
    "\n",
    "print(\"50th percentiles:\")\n",
    "for i in range(ndim):\n",
    "    print(labels[i], \":\", mcmc_AU[i])"
   ]
  },
  {
   "cell_type": "code",
   "execution_count": null,
   "metadata": {},
   "outputs": [],
   "source": [
    "inds = np.random.randint(len(flat_samples), size=1000)\n",
    "f, ax2 = plt.subplots(figsize=(8, 8))\n",
    "surf_dens = []\n",
    "for ind in inds:\n",
    "    sample = flat_samples[ind]\n",
    "    x_data, alpha, sig0, p, R_p, h_p, mass_ratios = params_format(sample, r_log, sig, gl_n_planets)\n",
    "    surf_dens += [get_surface_density(x_data, alpha, sig0, p, R_p, h_p, mass_ratios)['sigma']]\n",
    "\n",
    "surf_dens = np.array(surf_dens).transpose()\n",
    "ax2.loglog(r_log / au, surf_dens, \"C1\", alpha=0.1)\n",
    "x_data, alpha, sig0, p, R_p, h_p, mass_ratios = params_format(np.array(mcmc), r_log, sig, gl_n_planets)\n",
    "ax2.loglog(r_log / au, get_surface_density(x_data, alpha, sig0, p, R_p, h_p, mass_ratios)['sigma'], \"b\", alpha=0.6)\n",
    "ax2.loglog(r_log[0:] / au, sig[0:], \"k-\");\n",
    "ax2.set_xlabel(\"r [AU]\");\n",
    "ax2.set_ylabel(r\"$\\Sigma_{g}$\"+\" [\"+r\"$g/cm^2$\"+\"]\");\n",
    "plt.tight_layout(pad=1);\n",
    "if np.any(SV == np.array([1,2])):\n",
    "    plt.savefig(addn+'plot'+addc+'_sq.png',dpi=150)"
   ]
  },
  {
   "cell_type": "code",
   "execution_count": null,
   "metadata": {},
   "outputs": [],
   "source": [
    "\"\"\"269 == r_log.searchsorted(100*au)\"\"\"\n",
    "\n",
    "# secondary information\n",
    "secinf = np.array([choose, len(new_good_indices), \n",
    "                 get_surface_density(x_data, alpha, sig0, p, R_p, h_p, mass_ratios)['sigma'][268],sig[268]])\n",
    "\n",
    "try:\n",
    "    dataprim[choose]  = percentiles_AU\n",
    "    dataseco[choose]  = secinf\n",
    "except Exception:\n",
    "    dataprim  = np.full([14, percentiles_AU.shape[0], percentiles_AU.shape[1]],1.)\n",
    "    dataseco  = np.full([14,secinf.shape[0]],1.)\n",
    "    dataprim[choose]  = percentiles_AU\n",
    "    dataseco[choose]  = secinf\n",
    "\n",
    "surfas = dataseco[:,2]/dataseco[:,3]\n",
    "maass  = dataprim[:,1,3]/M_true_all"
   ]
  },
  {
   "cell_type": "code",
   "execution_count": null,
   "metadata": {},
   "outputs": [],
   "source": [
    "four = np.arange(4)+1\n",
    "nine = np.arange(9)+5\n",
    "\n",
    "###############\n",
    "verbose = False\n",
    "###############\n",
    "\n",
    "for y in np.arange(1,14):\n",
    "    chs = int(dataseco[y,0])\n",
    "    if not np.all(dataprim[y] == 1):\n",
    "        if verbose == True:\n",
    "            print(\"C\"+str(chs)+\" (\"+\"a\"+'{:.0e}'.format(true_alpha[chs])+\", mu\"+'{:.4e}'.format(M_true_all[chs])+\"):\")\n",
    "        else:\n",
    "            print(\"C\"+str(chs)+\":\")\n",
    "        print(\"new good:\", '{:2d}'.format(int(dataseco[y,1]))+\",  p:\", '{:.4f}'.format(dataprim[y,1,1]),\n",
    "              \"   |  \"'{:f}'.format(maass[y]), \"(mu\",'{:.4e}'.format(dataprim[y,1,3])+\")\"+\n",
    "              \",  surf dens%:\", '{:f}'.format(surfas[y]))"
   ]
  },
  {
   "cell_type": "raw",
   "metadata": {},
   "source": [
    "#(solution_set[:4,1,:]/solution_set[:4,0,:]-1)+(1-solution_set[:4,1,:]/solution_set[:4,2,:])/2*100, \n",
    "(-(solution_set[:,0,2:3]-solution_set[:,1,2:3])/ (solution_set[:,2,2:3]-solution_set[:,1,2:3]))**3"
   ]
  },
  {
   "cell_type": "raw",
   "metadata": {},
   "source": [
    "-(solution_set[:,0,1:]-solution_set[:,1,1:]), (solution_set[:,2,1:]-solution_set[:,1,1:])"
   ]
  },
  {
   "cell_type": "code",
   "execution_count": null,
   "metadata": {},
   "outputs": [],
   "source": [
    "import matplotlib.ticker as mticker\n",
    "\n",
    "f = mticker.ScalarFormatter(useOffset=False, useMathText=True)\n",
    "g = lambda x,pos : \"${}$\".format(f._formatSciNotation('%1.3e' % x))\n",
    "fmt = mticker.FuncFormatter(g)"
   ]
  },
  {
   "cell_type": "code",
   "execution_count": null,
   "metadata": {},
   "outputs": [],
   "source": [
    "# LaTeX table print\n",
    "print(\"Set parameters & $\\\\Sigma_0$ & p & $R_\\\\ttt{p}$ & $\\\\mu_\\\\ttt{p}$ & $\\\\mu_\\\\ttt{p} / \\\\mu_\\\\ttt{s}$ & surface density ratio \\\\\\\\\")\n",
    "print(\"\\\\hline\")\n",
    "for r in range(14):\n",
    "    if not np.all(dataprim[r] == 1):\n",
    "        #print(\"C\"+str(int(alsg[y,4]))+\":\")\n",
    "        print('C'+'{:.0f}'.format(dataseco[r,0]),'&','{:.3f}'.format(dataprim[r,1,0]),\"&\", '{:.4f}'.format(dataprim[r,1,1]),\"&\",\n",
    "              '{:.2f}'.format(dataprim[r,1,2]), \"&\",'{}'.format(fmt(dataprim[r,1,3])),\"&\",\n",
    "              '{:.3f}'.format(maass[r]),\"&\",'{:.3f}'.format(surfas[r]),\"\\\\\\\\\")\n",
    "\n",
    "\"\"\" \"$\\\\alpha$\"+'{:.0e}'.format(true_alpha[int(alsg[r,4])])+\", $\\\\mu$\"+'{:.0e}'.format(M_true_all[int(alsg[r,4])]),\"&\",\"\"\";"
   ]
  },
  {
   "cell_type": "raw",
   "metadata": {},
   "source": [
    "divide = 99.9\n",
    "try:\n",
    "    submask = samples[-1,:,2] < divide * au\n",
    "    samples_good = samples[-1,submask]\n",
    "    print(sum(submask))\n",
    "except Exception as e:\n",
    "    print(e)"
   ]
  },
  {
   "cell_type": "raw",
   "metadata": {},
   "source": [
    "divide = 100.1\n",
    "\n",
    "submask = (flat_samples[:,Rp_idx] < divide * au).T[0]\n",
    "flat_samples_good = flat_samples[submask]\n",
    "inds = np.random.randint(len(flat_samples_good), size=500)\n",
    "surf_dens = []\n",
    "for ind in inds:\n",
    "    sample = flat_samples_good[ind]\n",
    "    x_data, alpha, sig0, p, R_p, h_p, mass_ratios = params_format(sample, r_log, sig, gl_n_planets)\n",
    "    surf_dens += [get_surface_density(x_data, alpha, sig0, p, R_p, h_p, mass_ratios)['sigma']]\n",
    "\n",
    "surf_dens1 = np.array(surf_dens).transpose()\n",
    "\n",
    "submask = (flat_samples[:,Rp_idx] > divide * au).T[0]\n",
    "flat_samples_good = flat_samples[submask]\n",
    "inds = np.random.randint(len(flat_samples_good), size=500)\n",
    "f3, ax3 = plt.subplots(figsize=(8, 8))\n",
    "surf_dens = []\n",
    "for ind in inds:\n",
    "    sample = flat_samples_good[ind]\n",
    "    x_data, alpha, sig0, p, R_p, h_p, mass_ratios = params_format(sample, r_log, sig, gl_n_planets)\n",
    "    surf_dens += [get_surface_density(x_data, alpha, sig0, p, R_p, h_p, mass_ratios)['sigma']]\n",
    "\n",
    "surf_dens2 = np.array(surf_dens).transpose()\n",
    "ax3.loglog(r_log / au, surf_dens2, \"C0\", alpha=0.01)\n",
    "ax3.loglog(r_log / au, surf_dens1, \"C1\", alpha=0.01)\n",
    "\n",
    "x_data, alpha, sig0, p, R_p, h_p, mass_ratios = params_format(np.array(mcmc), r_log, sig, gl_n_planets)\n",
    "#ax3.loglog(r_log / au, get_surface_density(x_data, alpha, sig0, p, R_p, h_p, mass_ratios)['sigma'], \"b\", alpha=0.6)\n",
    "ax3.loglog(r_log[0:] / au, sig[0:], \"k-\");\n",
    "ax3.set_xlabel(\"r [AU]\");\n",
    "ax3.set_ylabel(\"surface density [\"+r\"$g/cm^2$\"+\"]\");\n",
    "if SV == 2:\n",
    "    plt.savefig(addn+'plot_diff'+addc+'.png')"
   ]
  },
  {
   "cell_type": "raw",
   "metadata": {
    "scrolled": false
   },
   "source": [
    "# plot of samples replaced after burnin \n",
    "\n",
    "replaced_samples = samples5[0,~good_mask].copy()\n",
    "replaced_samples.shape = (-1,ndim)\n",
    "inds = np.arange(len(replaced_samples))\n",
    "f6, ax6 = plt.subplots(figsize=(8, 6))\n",
    "surf_dens = []\n",
    "for ind in inds:\n",
    "    sample = replaced_samples[ind]\n",
    "    x_data, alpha, sig0, p, R_p, h_p, mass_ratios = params_format(sample, r_log, sig, gl_n_planets)\n",
    "    surf_dens += [get_surface_density(x_data, alpha, sig0, p, R_p, h_p, mass_ratios)['sigma']]\n",
    "\n",
    "surf_dens = np.array(surf_dens).transpose()\n",
    "ax6.loglog(r_log / au, surf_dens, \"C1\", alpha=0.1)\n",
    "ax6.loglog(r_log[0:] / au, sig[0:], \"k-\");\n",
    "ax6.set_xlabel(\"r [AU]\");\n",
    "ax6.set_ylabel(\"surface density [\"+r\"$g/cm^2$\"+\"]\");\n",
    "plt.tight_layout(pad=1);\n",
    "if SV == 2:\n",
    "    plt.savefig(addn+'plot_replaced'+addc+'.png',dpi=150)\n",
    "len(replaced_samples)"
   ]
  },
  {
   "cell_type": "code",
   "execution_count": null,
   "metadata": {},
   "outputs": [],
   "source": [
    "new_choose = choose+1\n",
    "if new_choose > chigh:\n",
    "    new_choose = clow\n",
    "new_choose"
   ]
  },
  {
   "cell_type": "raw",
   "metadata": {},
   "source": [
    "#LaTeX printer\n",
    "\n",
    "vals = np.array([[[1e-2, 1e-3],[1e-2,1e-3,1e-4]],[[1e-3, 4e-4],[1e-3,3e-3,3e-4]]])\n",
    "val_a  = vals[0][1]\n",
    "val_m  = vals[1][1]\n",
    "for i in np.arange(5,14):\n",
    "    print(\"$\\\\alpha_\\\\ttt{s}=$\",\"{}\".format(fmt(true_alpha[i])),\"$\\\\mu_\\\\ttt{s}=$\",\"{}\".format(fmt(M_true_all[i])),\"& C\"+str(i)+r\"\\\\\")\n",
    "    "
   ]
  },
  {
   "cell_type": "raw",
   "metadata": {},
   "source": [
    "# Heat Map\n",
    "\n",
    "import pandas as pd\n",
    "# se 0 for 2x2 heatmap (1st set of planets), se 1 for 3x3 (2nd set of planets)\n",
    "se = 1\n",
    "squared = 0\n",
    "\n",
    "maassf = maass.copy()\n",
    "maassf[maassf<1] = 1/maass[maass<1]\n",
    "\n",
    "slicer = [slice(1,5), slice(5,14)]\n",
    "uniform_data = [maass[slicer[se]],maassf[slicer[se]]]\n",
    "uniform_data = uniform_data[squared]\n",
    "sqr = int(np.sqrt(len(uniform_data)))\n",
    "uniform_data.shape = (sqr,-1)\n",
    "\n",
    "pd_label = np.array([[[1e-2, 1e-3],[1e-2,1e-3,1e-4]],[[1e-3, 4e-4],[3e-3,1e-3,3e-4]]])\n",
    "figname = [\"set4\", \"set9\"]\n",
    "sq_name = ['','_abs']\n",
    "uniform_data = pd.DataFrame(uniform_data,columns=pd_label[1,se],index=pd_label[0,se])\n",
    "if SV == 2:\n",
    "    uniform_data.to_csv('samples\\\\'+figname[se]+\"_heatmap\"+sq_name[squared]+IGDn+'.cvs')\n",
    "#uniform_data.to_csv('samples_co\\\\'+figname[se]+\"_heatmap\"+sq_name[squared]+IGDn+'.cvs')\n",
    "uniform_data"
   ]
  },
  {
   "cell_type": "raw",
   "metadata": {},
   "source": [
    "# merge this pd dataframe with the previous one if only C11-13 were repeated\n",
    "\n",
    "uniform_dataa = pd.read_csv('samples\\\\'+figname[se]+\"_heatmap\"+sq_name[squared]+IGDn+'.cvs',index_col=0)\n",
    "uniform_dataa.loc[1e-4] = uniform_data.loc[1e-4]\n",
    "uniform_data = uniform_dataa\n",
    "uniform_data\n",
    "uniform_dataa"
   ]
  },
  {
   "cell_type": "raw",
   "metadata": {},
   "source": [
    "# Load data\n",
    "\n",
    "IGD = 1\n",
    "\n",
    "IGDn = ['','IGD_','IGD_'][IGD]\n",
    "alphan = ['a-var_',''][set_alpha]\n",
    "addn = \"figures\\\\\"+alphan+IGDn\n",
    "addc = \"_C\"+str(choose)+['','','_2p','_3p'][gl_n_planets]\n",
    "\n",
    "import pandas as pd\n",
    "# se 0 for 2x2 heatmap (1st set of planets), se 1 for 3x3 (2nd set of planets)\n",
    "se = 1\n",
    "squared = 0\n",
    "pd_label = np.array([[[1e-2, 1e-3],[1e-2,1e-3,1e-4]],[[1e-3, 4e-4],[3e-3,1e-3,3e-4]]])\n",
    "figname = [\"set4\", \"set9\"]\n",
    "sq_name = ['','_abs']\n",
    "uniform_data = pd.read_csv('samples\\\\'+figname[se]+\"_heatmap\"+sq_name[squared]+IGDn+'.cvs',index_col=0)\n",
    "\n",
    "uniform_data"
   ]
  },
  {
   "cell_type": "raw",
   "metadata": {},
   "source": [
    "import seaborn as sns;# sns.set_theme()\n",
    "\n",
    "f8, ax8 = plt.subplots(figsize=(6, 5))\n",
    "\n",
    "ax8 = sns.heatmap(uniform_data, cmap=[\"coolwarm\",\"inferno\"][squared], center=[1,None][squared], cbar_kws={'label':'factor'})\n",
    "# , 'norm':'colors.LogNorm(vmin=.5, vmax=2.)'\n",
    "ax8.set_xlabel(r\"$\\mu$\")\n",
    "ax8.set_ylabel(r\"$\\alpha$\", rotation=0)\n",
    "ax8.set_yticklabels(ax8.get_yticklabels(),rotation=0);\n",
    "\n",
    "'figures_cm\\\\'+figname[se]+IGDn+\"heatmap\"+sq_name[squared]+'.png'"
   ]
  },
  {
   "cell_type": "raw",
   "metadata": {},
   "source": [
    "plt.savefig('figures_cm\\\\'+figname[se]+IGDn+\"heatmap\"+sq_name[squared]+'.png')"
   ]
  },
  {
   "cell_type": "raw",
   "metadata": {},
   "source": [
    "for w in range(int(len(lsgnn)/4)):\n",
    "    print(\"C\", w+11, \":\")\n",
    "    print(lsgnn[4*w], \"(mass%\",lsgnn[4*w+1], \"), \", \"new good:\", lsgnn[4*w+2], \", surf dens%:\", lsgnn[4*w+3])"
   ]
  },
  {
   "cell_type": "raw",
   "metadata": {},
   "source": [
    "(M_true_all[7]/(np.sqrt(27/8)*np.pi*(get_disk_height(100*au)/(100*au))**(5/2) *true_alpha[7]**(1/2)),\n",
    " M_true_all[7]/(3*((get_disk_height(100*au)/(100*au))**3)))"
   ]
  },
  {
   "cell_type": "raw",
   "metadata": {},
   "source": [
    "# Old aslg and solution_set cell\n",
    "\n",
    "# arrays that retain information about the run over multiple sets\n",
    "# solution_set has the 3 percentiles of all parameters\n",
    "# alsg has some other miscellaneous info\n",
    "\n",
    "verbose = False\n",
    "\n",
    "\"\"\"269 == r_log.searchsorted(100*au)\"\"\"\n",
    "\n",
    "ardd = np.array([mass_percentile[1]/M_true,  mass_percentile[1], len(new_good_indices), \n",
    "                 get_surface_density(x_data, alpha, sig0, p, R_p, h_p, mass_ratios)['sigma'][268]/sig[268], choose, mcmc[1]])\n",
    "\n",
    "try:\n",
    "    if np.all(solution_set[-1]!=percentiles_AU):\n",
    "        if alsg[-1,4] == ardd[4]:\n",
    "            alsg[-1] = ardd\n",
    "            solution_set[-1] = percentiles_AU\n",
    "        else:\n",
    "            alsg = np.append(alsg,ardd)\n",
    "            solution_set = np.append(solution_set,percentiles_AU)\n",
    "        alsg.shape = (-1,ardd.shape[0])\n",
    "        solution_set.shape = (-1,percentiles_AU.shape[0], percentiles_AU.shape[1])\n",
    "except Exception:\n",
    "    alsg = ardd.copy()\n",
    "    alsg.shape = (-1,ardd.shape[0])\n",
    "    solution_set = percentiles_AU.copy()\n",
    "    solution_set.shape = (-1,percentiles_AU.shape[0], percentiles_AU.shape[1])\n",
    "    \n",
    "for y in range(alsg.shape[0]):\n",
    "    if verbose == True:\n",
    "        print(\"C\"+str(int(alsg[y,4]))+\" (\"+\"a\"+'{:.0e}'.format(true_alpha[int(alsg[y,4])])+\n",
    "          \", mu\"+'{:.0e}'.format(M_true_all[int(alsg[y,4])])+\"):\")\n",
    "    else:\n",
    "        print(\"C\"+str(int(alsg[y,4]))+\":\")\n",
    "    print(\"new good:\", '{:d}'.format(int(alsg[y,2]))+\",  p:\", '{:.4f}'.format(alsg[y,5]),\"   |  \"'{:f}'.format(alsg[y,0]), \n",
    "          \"(mu\",'{:.4e}'.format(alsg[y,1])+\")\"+\",  surf dens%:\", '{:f}'.format(alsg[y,3]))"
   ]
  },
  {
   "cell_type": "raw",
   "metadata": {},
   "source": [
    "means = []\n",
    "mcmc = []\n",
    "mass_percentile  = []\n",
    "print(\"50th percentiles:\")\n",
    "for i in range(ndim):\n",
    "    means += [np.mean(flat_samples_good[:,i])]\n",
    "    mcmc += [np.percentile(flat_samples_good[:, i], 50)]\n",
    "    print(labels[i], \":\", mcmc[i])\n",
    "\n",
    "for n in [16, 50, 84]:\n",
    "    mass_percentile += [np.percentile(flat_samples_good[:, i], n)]\n",
    "\n",
    "mcmc[3]/M_true"
   ]
  }
 ],
 "metadata": {
  "kernelspec": {
   "display_name": "Python 3",
   "language": "python",
   "name": "python3"
  },
  "language_info": {
   "codemirror_mode": {
    "name": "ipython",
    "version": 3
   },
   "file_extension": ".py",
   "mimetype": "text/x-python",
   "name": "python",
   "nbconvert_exporter": "python",
   "pygments_lexer": "ipython3",
   "version": "3.7.4"
  }
 },
 "nbformat": 4,
 "nbformat_minor": 4
}
