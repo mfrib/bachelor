{
 "cells": [
  {
   "cell_type": "code",
   "execution_count": 1,
   "metadata": {},
   "outputs": [],
   "source": [
    "import numpy as np  \n",
    "import matplotlib.pyplot as plt  \n",
    "import astropy.constants as c  \n",
    "import astropy.units as u  \n",
    "\n",
    "year  = (1*u.year).cgs.value\n",
    "au    = c.au.cgs.value\n",
    "M_jup = c.M_jup.cgs.value\n",
    "M_sun = c.M_sun.cgs.value\n",
    "\n",
    "from simple_slider import Widget\n",
    "from simple_slider import kanagawa_profile\n",
    "from simple_slider import get_surface_density\n",
    "from simple_slider import get_disk_height\n",
    "\n",
    "%matplotlib notebook"
   ]
  },
  {
   "cell_type": "code",
   "execution_count": 2,
   "metadata": {},
   "outputs": [],
   "source": [
    "import simple_slider\n",
    "import os"
   ]
  },
  {
   "cell_type": "code",
   "execution_count": 3,
   "metadata": {
    "scrolled": false
   },
   "outputs": [],
   "source": [
    "data_dir = simple_slider.pkg_resources.resource_filename(simple_slider.__name__, 'data_1_planet')\n",
    "r = (np.loadtxt(os.path.join(data_dir, 'radius.dat')))\n",
    "sigma = np.loadtxt(os.path.join(data_dir, 'sigma_averaged.dat'), unpack=1)\n",
    "time = np.loadtxt(os.path.join(data_dir, 'time.dat'))"
   ]
  },
  {
   "cell_type": "markdown",
   "metadata": {},
   "source": [
    "Get the data"
   ]
  },
  {
   "cell_type": "code",
   "execution_count": 4,
   "metadata": {
    "scrolled": true
   },
   "outputs": [
    {
     "name": "stdout",
     "output_type": "stream",
     "text": [
      "1024\n"
     ]
    }
   ],
   "source": [
    "t   = time.searchsorted(5 * 1e5 * year)\n",
    "#t  = 0\n",
    "sig = sigma[:, t]\n",
    "print(len(r))"
   ]
  },
  {
   "cell_type": "markdown",
   "metadata": {},
   "source": [
    "Define the logp function: create a model based on the parameters and compare it to the data"
   ]
  },
  {
   "cell_type": "code",
   "execution_count": 5,
   "metadata": {},
   "outputs": [],
   "source": [
    "from log_prob import logp, log_prior, log_prob"
   ]
  },
  {
   "cell_type": "code",
   "execution_count": null,
   "metadata": {},
   "outputs": [],
   "source": [
    "def conv_params_model(params, x_data):\n",
    "    \n",
    "    n_planets = int((params.shape[0]-3)/2)\n",
    "    \n",
    "    x_min = np.log10(x_data[0]/ au) \n",
    "    x_max = np.log10(x_data[-1]/ au) \n",
    "    \n",
    "    # convert walkers from {0,1} to physical values for now    \n",
    "    params[0] = 10**(params[0]*3 -4)\n",
    "    params[1] = 10**(4 * (params[1]-0.5))\n",
    "    params[2] = (2.0 * params[2]) - 2\n",
    "    for n in range(n_planets):\n",
    "        params[3+2*n] = 10**(params[3 + 2 * n] * (x_max - x_min) + x_min) * au\n",
    "        params[4+2*n] = 10**(params[4 + 2 * n] * 2.0 - 4.0)\n",
    "        \n",
    "    #h_p = np.interp(R_p, x_data, get_disk_height(x_data))\n",
    "    \n",
    "    return params"
   ]
  },
  {
   "cell_type": "code",
   "execution_count": 6,
   "metadata": {},
   "outputs": [
    {
     "name": "stderr",
     "output_type": "stream",
     "text": [
      "100%|█████████████████████████████████████████████████████████████████████████████████████████████████████████| 250/250 [00:01<00:00, 157.75it/s]\n"
     ]
    }
   ],
   "source": [
    "import emcee\n",
    "from multiprocessing import Pool\n",
    "\n",
    "nwalkers = 100\n",
    "# need to input ndim as 3 + (2 * n_plantes) somewhere else\n",
    "ndim = 5\n",
    "n_burnin = 250\n",
    "n_steps = 2000\n",
    "\n",
    "pos = np.random.rand(nwalkers, ndim)\n",
    "nwalkers, ndim = pos.shape\n",
    "\n",
    "with Pool() as pool:\n",
    "    sampler = emcee.EnsembleSampler(nwalkers, ndim, log_prob,args=(r, sig, 1), pool=pool)\n",
    "    sampler.run_mcmc(pos, n_burnin, progress=True)"
   ]
  },
  {
   "cell_type": "code",
   "execution_count": null,
   "metadata": {},
   "outputs": [],
   "source": [
    "sampler.reset()\n",
    "\n",
    "sampler.run_mcmc(pos, n_steps, progress=True)"
   ]
  },
  {
   "cell_type": "code",
   "execution_count": null,
   "metadata": {},
   "outputs": [],
   "source": [
    "print(\"Mean acceptance fraction: {0:.3f}\".format(np.mean(sampler.acceptance_fraction)))\n",
    "#print(sampler.get_autocorr_time())"
   ]
  },
  {
   "cell_type": "code",
   "execution_count": null,
   "metadata": {},
   "outputs": [],
   "source": [
    "sampler.lnprobability.max()"
   ]
  },
  {
   "cell_type": "code",
   "execution_count": null,
   "metadata": {},
   "outputs": [],
   "source": [
    "sampler.lnprobability.shape"
   ]
  },
  {
   "cell_type": "code",
   "execution_count": null,
   "metadata": {},
   "outputs": [],
   "source": [
    "f, ax = plt.subplots()\n",
    "ax.hist(np.log10(-sampler.lnprobability[:, -1]))"
   ]
  },
  {
   "cell_type": "code",
   "execution_count": null,
   "metadata": {
    "scrolled": false
   },
   "outputs": [],
   "source": [
    "f, ax = plt.subplots(figsize=(10, 5))\n",
    "ax.semilogy(np.arange(sampler.lnprobability.shape[-1]), -sampler.lnprobability.T)"
   ]
  },
  {
   "cell_type": "code",
   "execution_count": null,
   "metadata": {},
   "outputs": [],
   "source": [
    "fig, axes = plt.subplots(ndim, figsize=(12, 8), sharex=True)\n",
    "samples = sampler.get_chain()\n",
    "labels = [\"alpha\", \"sig0\", \"p\", \"R_p\",\"mass_ratios\", \"R_p\",\"mass_ratios\", \"R_p\",\"mass_ratios\"]\n",
    "for i in range(ndim):\n",
    "    ax = axes[i]\n",
    "    ax.plot(samples[:, :, i], \"k\", alpha=0.3)\n",
    "    ax.set_xlim(0, len(samples))\n",
    "    ax.set_ylabel(labels[i])\n",
    "    ax.yaxis.set_label_coords(-0.1, 0.5)\n",
    "\n",
    "axes[-1].set_xlabel(\"step number\");"
   ]
  },
  {
   "cell_type": "code",
   "execution_count": null,
   "metadata": {},
   "outputs": [],
   "source": [
    "flat_samples = sampler.get_chain(discard=200, flat=True)\n",
    "means = []\n",
    "mcmc = []\n",
    "for i in range(ndim):\n",
    "    means += [np.mean(flat_samples[:,i])]\n",
    "    mcmc += [np.percentile(flat_samples[:, i], 50)]\n",
    "    \n",
    "print(\"mean values: \", means)\n",
    "print(\"50th percentiles: \", mcmc)"
   ]
  },
  {
   "cell_type": "code",
   "execution_count": null,
   "metadata": {},
   "outputs": [],
   "source": [
    "#labels = [\"alpha\", \"sig0\", \"p\", \"R_p\", \"mass_ratios\"]\n",
    "print(flat_samples.shape)\n",
    "\n",
    "import corner\n",
    "fig = corner.corner(flat_samples, labels=labels, quantiles=[0.16, 0.5, 0.84]);"
   ]
  },
  {
   "cell_type": "markdown",
   "metadata": {},
   "source": [
    "def conv_params_model(params, x_data, n_planets):\n",
    "    \n",
    "    x_min = np.log10(x_data[0]/ au) \n",
    "    x_max = np.log10(x_data[-1]/ au) \n",
    "    \n",
    "    # convert walkers from {0,1} to physical values for now    \n",
    "    alpha = 10**(params[0]*3 -4)\n",
    "    sig0  = 10**(4 * (params[1]-0.5))\n",
    "    p     = (2.0 * params[2]) - 2\n",
    "    R_p   = []\n",
    "    mass_ratios = []\n",
    "    for n in range(n_planets):\n",
    "        R_p         += [10**(params[3 + 3 * n] * (x_max - x_min) + x_min) * au]\n",
    "        mass_ratios += [10**(params[4 + 3 * n] * 2.0 - 4.0)]\n",
    "        \n",
    "    h_p = np.interp(R_p, x_data, get_disk_height(x_data))\n",
    "    \n",
    "    return alpha, sig0, p, R_p, h_p, mass_ratios"
   ]
  },
  {
   "cell_type": "code",
   "execution_count": null,
   "metadata": {
    "scrolled": false
   },
   "outputs": [],
   "source": [
    "inds = np.random.randint(len(flat_samples), size=100)\n",
    "f, ax2 = plt.subplots(figsize=(8, 8))\n",
    "for ind in inds:\n",
    "    sample = flat_samples[ind]\n",
    "    a, s, p, rp, hp, m = conv_params_model(sample, r, 1)\n",
    "    ax2.loglog(r, get_surface_density(r, a, s, p, rp, hp, m), \"C1\", alpha=0.1)\n",
    "    \n",
    "a, s, p, rp, hp, m = conv_params_model(mcmc, r, 1)\n",
    "ax2.loglog(r, get_surface_density(r, a, s, p, rp, hp, m), \"b\", alpha=0.6)\n",
    "ax2.loglog(r[0:-1], sig[0:-1], \"k\")"
   ]
  },
  {
   "cell_type": "markdown",
   "metadata": {},
   "source": [
    "#print(\"50th percentiles: alpha: {:.3f}, Sigma: {:.2f}, p: {:.2f}, R_p: {:.3e}, h_p: {:.3e}, mass ratio: {:.2e}\".format(a, s, p, rp, hp, m))\n",
    "print(\"50th percentile, parameters in cgs units:\")\n",
    "for i in range(ndim):\n",
    "    print(labels[i], \" :\", conv_params_model(mcmc, r, 1)[i])\n",
    "    "
   ]
  }
 ],
 "metadata": {
  "kernelspec": {
   "display_name": "Python 3",
   "language": "python",
   "name": "python3"
  },
  "language_info": {
   "codemirror_mode": {
    "name": "ipython",
    "version": 3
   },
   "file_extension": ".py",
   "mimetype": "text/x-python",
   "name": "python",
   "nbconvert_exporter": "python",
   "pygments_lexer": "ipython3",
   "version": "3.7.4"
  }
 },
 "nbformat": 4,
 "nbformat_minor": 4
}
