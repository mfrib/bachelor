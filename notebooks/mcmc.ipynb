{
 "cells": [
  {
   "cell_type": "code",
   "execution_count": 3,
   "metadata": {},
   "outputs": [],
   "source": [
    "import numpy as np  \n",
    "import matplotlib.pyplot as plt  \n",
    "import astropy.constants as c  \n",
    "import astropy.units as u  \n",
    "\n",
    "year  = (1*u.year).cgs.value\n",
    "au    = c.au.cgs.value\n",
    "M_jup = c.M_jup.cgs.value\n",
    "M_sun = c.M_sun.cgs.value\n",
    "\n",
    "gl_alpha = None\n",
    "\n",
    "from simple_slider import Widget\n",
    "from simple_slider import kanagawa_profile\n",
    "from simple_slider import get_surface_density\n",
    "from simple_slider import get_disk_height\n",
    "\n",
    "%matplotlib notebook"
   ]
  },
  {
   "cell_type": "code",
   "execution_count": 4,
   "metadata": {},
   "outputs": [],
   "source": [
    "import simple_slider\n",
    "import os"
   ]
  },
  {
   "cell_type": "markdown",
   "metadata": {},
   "source": [
    "Select the number of planets\n",
    "\n",
    "Choices: {1,3}"
   ]
  },
  {
   "cell_type": "code",
   "execution_count": 5,
   "metadata": {},
   "outputs": [],
   "source": [
    "gl_n_planets = 1"
   ]
  },
  {
   "cell_type": "markdown",
   "metadata": {},
   "source": [
    "Optional: Set desired alpha here (uncomment second line)"
   ]
  },
  {
   "cell_type": "code",
   "execution_count": 6,
   "metadata": {},
   "outputs": [],
   "source": [
    "##################\n",
    "#gl_alpha = 1e-2\n",
    "##################\n",
    "\n",
    "try:\n",
    "    set_alpha = int(gl_alpha**0)\n",
    "except Exception:\n",
    "    set_alpha = 0"
   ]
  },
  {
   "cell_type": "code",
   "execution_count": 7,
   "metadata": {
    "scrolled": false
   },
   "outputs": [],
   "source": [
    "if gl_n_planets == 3:\n",
    "    data_dir = simple_slider.pkg_resources.resource_filename(simple_slider.__name__, 'data_3_planets')\n",
    "elif gl_n_planets == 1:\n",
    "    data_dir = simple_slider.pkg_resources.resource_filename(simple_slider.__name__, 'data_1_planet')\n",
    "else:\n",
    "    print(\"please select valid value for gl_n_planets\")\n",
    "r = (np.loadtxt(os.path.join(data_dir, 'radius.dat')))\n",
    "sigma = np.loadtxt(os.path.join(data_dir, 'sigma_averaged.dat'), unpack=1)\n",
    "time = np.loadtxt(os.path.join(data_dir, 'time.dat'))"
   ]
  },
  {
   "cell_type": "markdown",
   "metadata": {},
   "source": [
    "Interpolate on a log grid"
   ]
  },
  {
   "cell_type": "code",
   "execution_count": 8,
   "metadata": {
    "scrolled": false
   },
   "outputs": [],
   "source": [
    "n_points = 500\n",
    "r_log = np.logspace(np.log10(20), np.log10(400), n_points) * au\n",
    "sigma_log = 10.**np.array([np.interp(np.log10(r_log), np.log10(r), np.log10(sig)) for sig in sigma.T]).T\n"
   ]
  },
  {
   "cell_type": "markdown",
   "metadata": {},
   "source": [
    "Select the snapshot"
   ]
  },
  {
   "cell_type": "code",
   "execution_count": 9,
   "metadata": {
    "scrolled": true
   },
   "outputs": [],
   "source": [
    "t   = time.searchsorted(5 * 1e4 * year)\n",
    "#t  = 0\n",
    "sig = sigma_log[:, t]"
   ]
  },
  {
   "cell_type": "markdown",
   "metadata": {},
   "source": [
    "Define the logp function: create a model based on the parameters and compare it to the data"
   ]
  },
  {
   "cell_type": "code",
   "execution_count": null,
   "metadata": {},
   "outputs": [],
   "source": [
    "from log_prob import logp, log_prior, log_prob, conv_values, params_format, log_prob_alpha"
   ]
  },
  {
   "cell_type": "code",
   "execution_count": null,
   "metadata": {
    "scrolled": true
   },
   "outputs": [],
   "source": [
    "import emcee\n",
    "from multiprocessing import Pool\n",
    "from scipy.signal import argrelmin\n",
    "\n",
    "nwalkers = 300\n",
    "ndim = 3 + 2 * gl_n_planets - set_alpha\n",
    "n_burnin = 500\n",
    "n_steps = 700\n",
    "pos = np.random.rand(nwalkers, ndim)\n",
    "\n",
    "if gl_alpha is not None:\n",
    "    pos = np.insert(pos,0,0,axis=1)\n",
    "\n",
    "pos = conv_values(pos, r_log, gl_n_planets)\n",
    "if gl_n_planets == 3:\n",
    "    # find local minima\n",
    "    peaks_mask = argrelmin(sig, order=int(n_points/33))\n",
    "    rps = r_log[peaks_mask]\n",
    "    # place Gaussians around minima as starting guesses\n",
    "    pos[:,3] = (rps[0]*(1+np.random.randn(pos.shape[0])*0.025))\n",
    "    pos[:,5] = (rps[1]*(1+np.random.randn(pos.shape[0])*0.025))\n",
    "    pos[:,7] = (rps[2]*(1+np.random.randn(pos.shape[0])*0.025))\n",
    "masks = [conv_values(np.ones_like(pos[0]), r_log, gl_n_planets), conv_values(np.zeros_like(pos[0]), r_log, gl_n_planets)]\n",
    "\n",
    "\n",
    "if gl_alpha is not None:\n",
    "    pos = pos[:,1:]\n",
    "#nwalkers, ndim = pos.shape"
   ]
  },
  {
   "cell_type": "code",
   "execution_count": null,
   "metadata": {},
   "outputs": [],
   "source": [
    "with Pool() as pool:\n",
    "    if gl_alpha is None:\n",
    "        sampler = emcee.EnsembleSampler(nwalkers, ndim, log_prob, args=(r_log, sig, gl_n_planets, masks), pool=pool)\n",
    "    else:\n",
    "        sampler = emcee.EnsembleSampler(nwalkers, ndim, log_prob_alpha, args=(r_log, sig, gl_n_planets, masks, gl_alpha), pool=pool)\n",
    "        \n",
    "    state = sampler.run_mcmc(pos, n_burnin, progress=True)\n",
    "       \n",
    "    new_pos             = state.coords.copy()\n",
    "    # set multiplier at the end to ~1.15 to remove single outliers\n",
    "    good_mask           = sampler.lnprobability[:, -1] > np.median(sampler.lnprobability[:, -1]) * 3\n",
    "    good_indices        = np.where(good_mask)[0]\n",
    "    new_good_indices    = np.random.choice(good_indices, size=(~good_mask).sum())\n",
    "    new_pos[~good_mask] = new_pos[new_good_indices]\n",
    "\n",
    "    sampler.reset()\n",
    "\n",
    "    sampler.run_mcmc(new_pos, n_steps, progress=True)"
   ]
  },
  {
   "cell_type": "code",
   "execution_count": null,
   "metadata": {
    "scrolled": true
   },
   "outputs": [],
   "source": [
    "print(\"Mean acceptance fraction: {0:.3f}\".format(np.mean(sampler.acceptance_fraction)))\n",
    "#print(sampler.get_autocorr_time())"
   ]
  },
  {
   "cell_type": "code",
   "execution_count": null,
   "metadata": {},
   "outputs": [],
   "source": [
    "len(new_good_indices)"
   ]
  },
  {
   "cell_type": "code",
   "execution_count": null,
   "metadata": {
    "scrolled": false
   },
   "outputs": [],
   "source": [
    "f, ax = plt.subplots(figsize=(10, 5))\n",
    "ax.semilogy(np.arange(sampler.lnprobability.shape[-1]), -sampler.lnprobability.T);"
   ]
  },
  {
   "cell_type": "code",
   "execution_count": null,
   "metadata": {},
   "outputs": [],
   "source": [
    "fig, axes = plt.subplots(ndim, figsize=(12, 8), sharex=True)\n",
    "samples = sampler.get_chain()\n",
    "labels = [\"alpha\", \"sig0\", \"p\"]\n",
    "\n",
    "if set_alpha == 1:\n",
    "    labels = labels[1:]\n",
    "    \n",
    "for i in range(gl_n_planets):\n",
    "    labels.append(\"R_p\"+\"_\"+str(i+1))\n",
    "    labels.append(\"mass_ratios\"+\"_\"+str(i+1))\n",
    "    \n",
    "for i in range(ndim):\n",
    "    ax = axes[i]\n",
    "    ax.plot(samples[:, :, i], \"k\", alpha=0.3)\n",
    "    ax.set_xlim(0, len(samples))\n",
    "    ax.set_ylabel(labels[i])\n",
    "    ax.yaxis.set_label_coords(-0.1, 0.5)\n",
    "\n",
    "axes[-1].set_xlabel(\"step number\");"
   ]
  },
  {
   "cell_type": "code",
   "execution_count": null,
   "metadata": {},
   "outputs": [],
   "source": [
    "flat_samples = sampler.get_chain(discard=200, flat=True)\n",
    "means = []\n",
    "mcmc = []\n",
    "print(\"50th percentiles:\")\n",
    "for i in range(ndim):\n",
    "    means += [np.mean(flat_samples[:,i])]\n",
    "    mcmc += [np.percentile(flat_samples[:, i], 50)]\n",
    "    print(labels[i], \":\", mcmc[i])\n",
    "    \n",
    "print(\"mean values: \", means)\n",
    "#print(\"50th percentiles: \", mcmc)"
   ]
  },
  {
   "cell_type": "code",
   "execution_count": null,
   "metadata": {},
   "outputs": [],
   "source": [
    "import corner\n",
    "fig = corner.corner(flat_samples, labels=labels, quantiles=[0.16, 0.5, 0.84]);"
   ]
  },
  {
   "cell_type": "code",
   "execution_count": null,
   "metadata": {},
   "outputs": [],
   "source": [
    "if set_alpha == 1:\n",
    "    def params_format(params, x_data, y_data, n_planets):\n",
    "        params = np.insert(params,0,gl_alpha)\n",
    "        alpha = params[0]\n",
    "        sig0  = params[1]\n",
    "        p     = params[2]\n",
    "        R_p   = []\n",
    "        mass_ratios = []\n",
    "        h_p = []\n",
    "        for n in range(n_planets):\n",
    "            R_p         += [params[3 + 2 * n]]\n",
    "            mass_ratios += [params[4 + 2 * n]]\n",
    "            h_p += [np.interp(R_p, x_data, get_disk_height(x_data))[n]]\n",
    "\n",
    "        return x_data, alpha, sig0, p, R_p, h_p, mass_ratios"
   ]
  },
  {
   "cell_type": "code",
   "execution_count": null,
   "metadata": {
    "scrolled": false
   },
   "outputs": [],
   "source": [
    "inds = np.random.randint(len(flat_samples), size=100)\n",
    "f, ax2 = plt.subplots(figsize=(8, 8))\n",
    "for ind in inds:\n",
    "    sample = flat_samples[ind]\n",
    "    x_data, alpha, sig0, p, R_p, h_p, mass_ratios = params_format(sample, r_log, sig, gl_n_planets)\n",
    "    ax2.loglog(r_log / au, get_surface_density(x_data, alpha, sig0, p, R_p, h_p, mass_ratios), \"C1\", alpha=0.1)\n",
    "    \n",
    "x_data, alpha, sig0, p, R_p, h_p, mass_ratios = params_format(np.array(mcmc), r_log, sig, gl_n_planets)\n",
    "ax2.loglog(r_log / au, get_surface_density(x_data, alpha, sig0, p, R_p, h_p, mass_ratios), \"b\", alpha=0.6)\n",
    "ax2.loglog(r_log[0:] / au, sig[0:], \"k-\");"
   ]
  },
  {
   "cell_type": "code",
   "execution_count": null,
   "metadata": {},
   "outputs": [],
   "source": []
  }
 ],
 "metadata": {
  "kernelspec": {
   "display_name": "Python 3",
   "language": "python",
   "name": "python3"
  },
  "language_info": {
   "codemirror_mode": {
    "name": "ipython",
    "version": 3
   },
   "file_extension": ".py",
   "mimetype": "text/x-python",
   "name": "python",
   "nbconvert_exporter": "python",
   "pygments_lexer": "ipython3",
   "version": "3.7.4"
  }
 },
 "nbformat": 4,
 "nbformat_minor": 4
}
