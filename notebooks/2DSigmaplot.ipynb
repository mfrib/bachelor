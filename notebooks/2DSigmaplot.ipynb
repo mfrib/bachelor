{
 "cells": [
  {
   "cell_type": "code",
   "execution_count": null,
   "metadata": {},
   "outputs": [],
   "source": [
    "import numpy as np\n",
    "import matplotlib.pyplot as plt\n",
    "import os\n",
    "import simple_slider\n",
    "import astropy.constants as c \n",
    "\n",
    "au    = c.au.cgs.value\n",
    "M_jup = c.M_jup.cgs.value\n",
    "M_sun = c.M_sun.cgs.value\n",
    "\n",
    "%matplotlib notebook"
   ]
  },
  {
   "cell_type": "code",
   "execution_count": null,
   "metadata": {},
   "outputs": [],
   "source": [
    "np.array([[9.08764856e-05, 1.84523828e-04, 7.97577341e-04],\n",
    "       [2.58948196e-04, 7.02904708e-04, 5.51527006e-04],\n",
    "        [2.59866944e-04, 2.96340948e-04, 1.79784662e-03]])*(2.3*M_sun)/M_jup"
   ]
  },
  {
   "cell_type": "code",
   "execution_count": null,
   "metadata": {},
   "outputs": [],
   "source": [
    "np.array([[6.30432947e-05, 1.53973398e-03],\n",
    "       [1.70368476e-04, 2.89160754e-03]])*(2.3*M_sun)/M_jup\n",
    "\n",
    "np.array([0.00021169455647519422, 0.0003497507653180631, 0.00048728112632480923])*(2.3*M_sun)/M_jup"
   ]
  },
  {
   "cell_type": "code",
   "execution_count": null,
   "metadata": {},
   "outputs": [],
   "source": [
    "choose=0\n",
    "\n",
    "switcher = {0:\"data_1_planet\", 1:\"data_one_planet_a1e-2_M1e-3\",2:\"data_one_planet_a1e-2_M4e-4\",\n",
    "            3:\"data_one_planet_a1e-3_M1e-3\",4:\"data_one_planet_a1e-3_M4e-4\", \n",
    "            6:\"data_planets_scalefree_a1e-2_mu1e-3_r100\", 5:\"data_planets_scalefree_a1e-2_mu3e-3_r100\",\n",
    "            7:\"data_planets_scalefree_a1e-2_mu3e-4_r100\", 9:\"data_planets_scalefree_a1e-3_mu1e-3_r100\",\n",
    "            8:\"data_planets_scalefree_a1e-3_mu3e-3_r100\", 10:\"data_planets_scalefree_a1e-3_mu3e-4_r100\",\n",
    "            12:\"data_planets_scalefree_a1e-4_mu1e-3_r100\", 11:\"data_planets_scalefree_a1e-4_mu3e-3_r100\", \n",
    "            13:\"data_planets_scalefree_a1e-4_mu3e-4_r100\", 14:\"data_planets_scalefree_3planets\",\n",
    "            15:\"data_planets_scalefree_a1e-3_3planets\", 16:\"data_3_planets\"}\n",
    "\n",
    "\"\"\"\n",
    "if gl_n_planets == 3 and choose != 14:\n",
    "    data_dir = simple_slider.pkg_resources.resource_filename(simple_slider.__name__, 'data_3_planets')\n",
    "else:\n",
    "\"\"\"   \n",
    "data_dir = simple_slider.pkg_resources.resource_filename(simple_slider.__name__, switcher[choose])\n",
    "\n",
    "\n",
    "r = (np.loadtxt(os.path.join(data_dir, 'radius.dat')))\n",
    "#phi = (np.loadtxt(os.path.join(data_dir, 'phi.dat')))\n",
    "av_dat = (np.loadtxt(os.path.join(data_dir, 'sigma_averaged.dat')))[-1]\n",
    "#sigma2D = np.loadtxt(os.path.join(data_dir, 'surfacedensity2D.dat'), unpack=1)\n",
    "#relerr = (np.loadtxt(os.path.join(data_dir, 'relative_error.dat')))\n",
    "\n",
    "n_points = len(r)\n",
    "r_log = np.logspace(np.log10(r[0]), np.log10(r[-1]), n_points) * au"
   ]
  },
  {
   "cell_type": "code",
   "execution_count": null,
   "metadata": {},
   "outputs": [],
   "source": [
    "r.shape, phi.shape, sigma2D.shape"
   ]
  },
  {
   "cell_type": "code",
   "execution_count": null,
   "metadata": {},
   "outputs": [],
   "source": [
    "phi[-1]"
   ]
  },
  {
   "cell_type": "code",
   "execution_count": null,
   "metadata": {},
   "outputs": [],
   "source": [
    "phi = np.insert(phi,0,-np.pi)\n",
    "sigma2D = np.insert(sigma2D,0,(sigma2D[0]+sigma2D[-1])/2, axis=0)"
   ]
  },
  {
   "cell_type": "code",
   "execution_count": null,
   "metadata": {},
   "outputs": [],
   "source": [
    "r.shape, phi.shape, sigma2D.shape"
   ]
  },
  {
   "cell_type": "code",
   "execution_count": null,
   "metadata": {},
   "outputs": [],
   "source": [
    "sigma2D.shape\n",
    "R, PHI = np.meshgrid(np.log2(r/np.min(r)*1.1),phi, indexing='xy')\n",
    "R, PHI = np.meshgrid(r,phi, indexing='xy')\n",
    "x,y = R*np.cos(PHI), R*np.sin(PHI)\n",
    "#x.shape, y.shape, sigma2D.shape\n",
    "\n",
    "#ax = plt.subplot(projection='polar')\n",
    "fig,ax = plt.subplots(figsize=(10,10))\n",
    "#ax.set_xlim([np.min(r), np.max(r)])\n",
    "#plt.xlim(np.log10(16*au), np.log10(466*au))\n",
    "\n",
    "#plt.xscale('symlog', linthreshx=np.min(r)*20)\n",
    "#plt.yscale('symlog', linthreshy=np.min(r)*20)\n",
    "im = ax.pcolormesh(x,y, np.log10(sigma2D));\n",
    "#fig.colorbar(im,ax=ax)\n",
    "ax.set_xticks([])\n",
    "ax.set_yticks([])\n",
    "plt.tight_layout(pad=1)\n",
    "#plt.savefig('sig2D_C'+str(choose)+'.png')"
   ]
  },
  {
   "cell_type": "code",
   "execution_count": null,
   "metadata": {},
   "outputs": [],
   "source": [
    "#C15 planetary positions\n",
    "np.sqrt((7.43e14)**2+(1.7e12)**2)/au, np.sqrt((7.87e14)**2+(6.83e14)**2)/au"
   ]
  },
  {
   "cell_type": "code",
   "execution_count": null,
   "metadata": {},
   "outputs": [],
   "source": [
    "#C14 planetary positions\n",
    "np.sqrt((2.58e14)**2+(8.82e14)**2)/au, np.sqrt((1.45e15)**2+(1.94e14)**2)/au"
   ]
  },
  {
   "cell_type": "code",
   "execution_count": null,
   "metadata": {},
   "outputs": [],
   "source": [
    "med = np.median(sigma2D, axis=0)\n",
    "med"
   ]
  },
  {
   "cell_type": "code",
   "execution_count": null,
   "metadata": {},
   "outputs": [],
   "source": [
    "av_dat/ave"
   ]
  },
  {
   "cell_type": "code",
   "execution_count": null,
   "metadata": {},
   "outputs": [],
   "source": [
    "ave = np.average(sigma2D[1:], axis=0)\n",
    "a_min = np.min(sigma2D, axis=0)\n",
    "a_max = np.max(sigma2D, axis=0)\n",
    "#relerr=0.15\n",
    "fig2, ax2 = plt.subplots(figsize=(10,6))\n",
    "ax2 = plt.loglog(r/au, ave)\n",
    "ax2 = plt.fill_between(r/au, av_dat*(1+relerr), av_dat/(1+relerr), alpha=0.2)\n",
    "ax2 = plt.loglog(r/au, a_min)\n",
    "ax2 = plt.loglog(r/au, a_max)\n",
    "#ax2 = plt.loglog(r/au, med, color='black')\n",
    "#ax2 = plt.loglog(r/au, med)\n",
    "#ax2 = plt.fill_between(r/au,med*(1+relerr), med/(1+relerr), alpha=0.2)\n",
    "plt.tick_params(\n",
    "    axis='both',          # changes apply to the x-axis\n",
    "    which='both',      # both major and minor ticks are affected\n",
    "    bottom=False,      # ticks along the bottom edge are off\n",
    "    top=False,         # ticks along the top edge are off\n",
    "    left=False,\n",
    "    labelbottom=False, # labels along the bottom edge are off\n",
    "    labelleft=False)\n",
    "plt.tight_layout(pad=1)\n",
    "#ax2.set_yticks([])\n",
    "#plt.savefig('sig2D_C'+str(choose)+'_witherror.png')"
   ]
  },
  {
   "cell_type": "code",
   "execution_count": null,
   "metadata": {},
   "outputs": [],
   "source": [
    "ave = np.average(sigma2D[1:], axis=0)\n",
    "a_min = np.min(sigma2D, axis=0)\n",
    "a_max = np.max(sigma2D, axis=0)\n",
    "#relerr=0.15\n",
    "\n",
    "fig, ax3 = plt.subplots(figsize=(10,6))\n",
    "ax3.loglog(r[100:-350]/au, av_dat[100:-350])\n",
    "#ax3 = plt.fill_between(r/au, av_dat*(1+relerr), av_dat/(1+relerr), alpha=0.2)\n",
    "#ax3 = plt.loglog(r/au, a_min)\n",
    "#ax3 = plt.loglog(r/au, a_max)\n",
    "#ax2 = plt.loglog(r/au, med, color='black')\n",
    "#ax2 = plt.loglog(r/au, med)\n",
    "#ax2 = plt.fill_between(r/au,med*(1+relerr), med/(1+relerr), alpha=0.2)\n",
    "plt.tick_params(\n",
    "    axis='both',          # changes apply to the x-axis\n",
    "    which='both',      # both major and minor ticks are affected\n",
    "    bottom=False,      # ticks along the bottom edge are off\n",
    "    top=False,         # ticks along the top edge are off\n",
    "    left=False,\n",
    "    labelbottom=False, # labels along the bottom edge are off\n",
    "    labelleft=False)\n",
    "ax3.set_xlabel(\"Radius \"+r\"$r$\");\n",
    "ax3.set_ylabel(\"Gas surface density \"+r\"$\\Sigma$\");\n",
    "plt.tight_layout(pad=1)\n",
    "#ax2.set_yticks([])\n",
    "#plt.savefig('sig2D_C'+str(choose)+'_witherror.png')\n",
    "plt.savefig('paint_fig.png')"
   ]
  },
  {
   "cell_type": "raw",
   "metadata": {},
   "source": [
    "fig, ax1 = plt.subplots(1, 1, subplot_kw={'projection' :'polar'}, figsize=(10, 5))\n",
    "ax1.set_rscale('log')\n",
    "ax1.set_rlim(np.min(r), np.max(r))\n",
    "ax1.pcolormesh(PHI,R, sigma2D)"
   ]
  },
  {
   "cell_type": "raw",
   "metadata": {},
   "source": [
    "fig, ax = plt.subplots(figsize=(10,10))\n",
    "\n",
    "ax.pcolormesh(x,y, sigma2D);\n",
    "# norm must be set to log somehow\n",
    "# values are still not logarithmic\n",
    "plt.tight_layout(pad=1)\n",
    "#plt.savefig('sig2D.png')"
   ]
  },
  {
   "cell_type": "code",
   "execution_count": null,
   "metadata": {},
   "outputs": [],
   "source": [
    "import matplotlib.cm as cm \n",
    "from scipy import integrate\n",
    "\n",
    "\n",
    "Z = 1\n",
    "a_0 = 1\n",
    "pi = np.pi\n",
    "\n",
    "def sqrt(xas):\n",
    "    return np.sqrt(xas)\n",
    "\n",
    "n = 300\n",
    "x1 = np.linspace(-10, 10, n) \n",
    "x2 = np.linspace(-10,10, n) \n",
    "X1, X2 = np.meshgrid(x1,x2) \n",
    "\n",
    "\n",
    "def r(x,y):\n",
    "    return sqrt(x**2 + y**2)\n",
    "\n",
    "def psi(x,y):\n",
    "    return 1/(4*sqrt(2*pi))*(Z/a_0)**(3/2) * Z*r(x,y)/a_0*np.exp(-Z*r(x,y)/(2*a_0))*x/r(x,y)\n",
    "\n",
    "\n",
    "\n",
    "\"\"\"plt.pcolormesh(X1,X2,psi(X1,X2)**2)\n",
    "\n",
    "plt.axis('equal')\n",
    "plt.show()\"\"\"\n",
    "psi(X1,X2).shape, X1.shape, X2.shape, x1.shape"
   ]
  }
 ],
 "metadata": {
  "kernelspec": {
   "display_name": "Python 3",
   "language": "python",
   "name": "python3"
  },
  "language_info": {
   "codemirror_mode": {
    "name": "ipython",
    "version": 3
   },
   "file_extension": ".py",
   "mimetype": "text/x-python",
   "name": "python",
   "nbconvert_exporter": "python",
   "pygments_lexer": "ipython3",
   "version": "3.7.4"
  }
 },
 "nbformat": 4,
 "nbformat_minor": 4
}
