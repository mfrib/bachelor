{
 "cells": [
  {
   "cell_type": "code",
   "execution_count": null,
   "metadata": {},
   "outputs": [],
   "source": [
    "import numpy as np\n",
    "import matplotlib.pyplot as plt\n",
    "%matplotlib notebook\n",
    "\n",
    "import astropy.constants as c  \n",
    "import astropy.units as u  \n",
    "import simple_slider\n",
    "from simple_slider import get_surface_density\n",
    "from log_prob import get_disk_height, params_format\n",
    "import os\n",
    "\n",
    "au = c.au.cgs.value"
   ]
  },
  {
   "cell_type": "code",
   "execution_count": null,
   "metadata": {},
   "outputs": [],
   "source": [
    "gl_n_planets = 1\n",
    "##################\n",
    "choose = 4\n",
    "##################\n",
    "IGD = 1\n",
    "##################\n",
    "set_alpha = 1\n",
    "##################\n",
    "SV = 0\n",
    "##################"
   ]
  },
  {
   "cell_type": "code",
   "execution_count": null,
   "metadata": {},
   "outputs": [],
   "source": [
    "IGDn = ['','IGD_','IGD_'][IGD]\n",
    "alphan = ['a-var',''][set_alpha]\n",
    "addn = \"samples\\\\figures\\\\\"+alphan+IGDn\n",
    "addc = \"_C\"+str(choose)+['','','_2p','_3p'][gl_n_planets]"
   ]
  },
  {
   "cell_type": "code",
   "execution_count": null,
   "metadata": {},
   "outputs": [],
   "source": [
    "samples = np.load('samples\\\\'+alphan+IGDn+'samples'+addc+'.npy')\n",
    "\n",
    "flat_samples = samples[300:,:,:].reshape(-1,samples.shape[-1])\n",
    "Rp_idx = flat_samples[-1] > 1e9\n",
    "flat_samples_AU = flat_samples.copy()\n",
    "flat_samples_AU[:,Rp_idx] = flat_samples[:,Rp_idx]/au\n",
    "\n",
    "percentiles = np.percentile(flat_samples,[16,50,84], axis=0)\n",
    "mcmc = percentiles[1].tolist()"
   ]
  },
  {
   "cell_type": "raw",
   "metadata": {},
   "source": [
    "samples_tw = samples.copy()\n",
    "fsamples = flat_samples.copy()"
   ]
  },
  {
   "cell_type": "code",
   "execution_count": null,
   "metadata": {},
   "outputs": [],
   "source": [
    "labels = [\"alpha\", \"sig0\", \"p\"]\n",
    "\n",
    "if set_alpha == 1:\n",
    "    labels = labels[1:]\n",
    "\n",
    "for i in range(gl_n_planets):\n",
    "    labels.append(r\"$R_{p\"+str(i+1)+r\"}$\"+\" [AU]\")\n",
    "    labels.append(r\"$\\mu_\"+str(i+1)+r\"$\")"
   ]
  },
  {
   "cell_type": "code",
   "execution_count": null,
   "metadata": {},
   "outputs": [],
   "source": [
    "true_alpha = [None, 1e-2, 1e-2, 1e-3, 1e-3, 1e-2, 1e-2, 1e-2, 1e-3, 1e-3, 1e-3, 1e-4, 1e-4, 1e-4,]\n",
    "M_true_all = [1, 1e-3, 4e-4, 1e-3, 4e-4, 3e-3, 1e-3, 3e-4, 3e-3, 1e-3, 3e-4, 3e-3, 1e-3, 3e-4]\n",
    "gl_alpha = true_alpha[choose]"
   ]
  },
  {
   "cell_type": "code",
   "execution_count": null,
   "metadata": {},
   "outputs": [],
   "source": [
    "n_points = 500\n",
    "r_log = np.logspace(np.log10(20), np.log10(400), n_points) * au"
   ]
  },
  {
   "cell_type": "code",
   "execution_count": null,
   "metadata": {},
   "outputs": [],
   "source": [
    "switcher = {0:\"data_1_planet\", 1:\"data_one_planet_a1e-2_M1e-3\",2:\"data_one_planet_a1e-2_M4e-4\",\n",
    "            3:\"data_one_planet_a1e-3_M1e-3\",4:\"data_one_planet_a1e-3_M4e-4\", \n",
    "            6:\"data_planets_scalefree_a1e-2_mu1e-3_r100\", 5:\"data_planets_scalefree_a1e-2_mu3e-3_r100\",\n",
    "            7:\"data_planets_scalefree_a1e-2_mu3e-4_r100\", 9:\"data_planets_scalefree_a1e-3_mu1e-3_r100\",\n",
    "            8:\"data_planets_scalefree_a1e-3_mu3e-3_r100\", 10:\"data_planets_scalefree_a1e-3_mu3e-4_r100\",\n",
    "            12:\"data_planets_scalefree_a1e-4_mu1e-3_r100\", 11:\"data_planets_scalefree_a1e-4_mu3e-3_r100\", \n",
    "            13:\"data_planets_scalefree_a1e-4_mu3e-4_r100\"}\n",
    "\n",
    "if gl_n_planets == 3:\n",
    "    data_dir = simple_slider.pkg_resources.resource_filename(simple_slider.__name__, 'data_3_planets')\n",
    "else:\n",
    "    data_dir = simple_slider.pkg_resources.resource_filename(simple_slider.__name__, switcher[choose])\n",
    "\n",
    "\n",
    "r = (np.loadtxt(os.path.join(data_dir, 'radius.dat')))\n",
    "sigma = np.loadtxt(os.path.join(data_dir, 'sigma_averaged.dat'), unpack=1)\n",
    "try:\n",
    "    sigma = sigma[:, -1]\n",
    "except Exception:\n",
    "    None\n",
    "sig = 10.**np.array(np.interp(np.log10(r_log), np.log10(r), np.log10(sigma)))"
   ]
  },
  {
   "cell_type": "code",
   "execution_count": null,
   "metadata": {
    "scrolled": false
   },
   "outputs": [],
   "source": [
    "import corner\n",
    "fig = corner.corner(flat_samples_AU, labels=labels, quantiles=[0.16, 0.5, 0.84]);\n",
    "#plt.tight_layout(pad=1);\n",
    "if SV >= 1:\n",
    "    plt.savefig(addn+'corner'+addc+'.png',dpi=150)"
   ]
  },
  {
   "cell_type": "code",
   "execution_count": null,
   "metadata": {},
   "outputs": [],
   "source": [
    "if set_alpha == 1:\n",
    "    def params_format(params, x_data, y_data, n_planets):\n",
    "        params      = np.insert(params,0,gl_alpha)\n",
    "        alpha       = params[0]\n",
    "        sig0        = params[1]\n",
    "        p           = params[2]\n",
    "        R_p         = []\n",
    "        mass_ratios = []\n",
    "        \n",
    "        for n in range(n_planets):\n",
    "            R_p         += [params[3 + 2 * n]]\n",
    "            mass_ratios += [params[4 + 2 * n]]\n",
    "            \n",
    "        h_p = get_disk_height(np.array(R_p)).tolist()\n",
    "\n",
    "        return x_data, alpha, sig0, p, R_p, h_p, mass_ratios"
   ]
  },
  {
   "cell_type": "code",
   "execution_count": null,
   "metadata": {},
   "outputs": [],
   "source": [
    "inds = np.random.randint(len(flat_samples), size=1000)\n",
    "f, ax2 = plt.subplots(figsize=(8, 5))\n",
    "surf_dens = []\n",
    "for ind in inds:\n",
    "    sample = flat_samples[ind]\n",
    "    x_data, alpha, sig0, p, R_p, h_p, mass_ratios = params_format(sample, r_log, None, gl_n_planets)\n",
    "    surf_dens += [get_surface_density(x_data, alpha, sig0, p, R_p, h_p, mass_ratios)['sigma']]\n",
    "\n",
    "surf_dens = np.array(surf_dens).transpose()\n",
    "ax2.loglog(r_log / au, surf_dens, \"C1\", alpha=0.1)\n",
    "x_data, alpha, sig0, p, R_p, h_p, mass_ratios = params_format(np.array(mcmc), r_log, None, gl_n_planets)\n",
    "ax2.loglog(r_log / au, get_surface_density(x_data, alpha, sig0, p, R_p, h_p, mass_ratios)['sigma'], \"b\", alpha=0.6)\n",
    "ax2.loglog(r_log[0:] / au, sig[0:], \"k-\");\n",
    "ax2.set_xlabel(\"r [AU]\");\n",
    "ax2.set_ylabel(\"surface density [\"+r\"$g/cm^2$\"+\"]\");\n",
    "plt.tight_layout(pad=1);\n",
    "if SV >= 1:\n",
    "    plt.savefig(addn+'plot'+addc+'.png',dpi=150)"
   ]
  },
  {
   "cell_type": "code",
   "execution_count": null,
   "metadata": {},
   "outputs": [],
   "source": [
    "plt.savefig(addn+'plot'+addc+'_sq.png',dpi=150)"
   ]
  },
  {
   "cell_type": "code",
   "execution_count": null,
   "metadata": {},
   "outputs": [],
   "source": [
    "mcmc,mcmc[-1]/M_true_all[choose],get_surface_density(x_data, alpha, sig0, p, R_p, h_p, mass_ratios)['sigma'][268]/sig[268]\n",
    "\n"
   ]
  }
 ],
 "metadata": {
  "kernelspec": {
   "display_name": "Python 3",
   "language": "python",
   "name": "python3"
  },
  "language_info": {
   "codemirror_mode": {
    "name": "ipython",
    "version": 3
   },
   "file_extension": ".py",
   "mimetype": "text/x-python",
   "name": "python",
   "nbconvert_exporter": "python",
   "pygments_lexer": "ipython3",
   "version": "3.7.4"
  }
 },
 "nbformat": 4,
 "nbformat_minor": 4
}
