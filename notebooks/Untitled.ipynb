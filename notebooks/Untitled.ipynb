{
 "cells": [
  {
   "cell_type": "code",
   "execution_count": 1,
   "metadata": {},
   "outputs": [
    {
     "data": {
      "text/plain": [
       "array([1.0358414 , 1.02908646, 1.07091495, 1.04418832])"
      ]
     },
     "execution_count": 1,
     "metadata": {},
     "output_type": "execute_result"
    }
   ],
   "source": [
    "import numpy as np\n",
    "M = np.array([1.7e-3, 6.75e-4, 1.58e-3, 5.8e-4])\n",
    "\n",
    "M2 = np.array([1.27e-3, 4.99e-4, 1.58e-3, 5.57e-4])\n",
    "M_t = np.array([1e-3, 4e-4,1e-3, 4e-4])\n",
    "r = np.log10(M_t)/np.log10(M2)\n",
    "r"
   ]
  },
  {
   "cell_type": "code",
   "execution_count": 2,
   "metadata": {},
   "outputs": [],
   "source": [
    "import astropy.constants as c\n",
    "import numpy as np\n",
    "\n",
    "\n",
    "au    = c.au.cgs.value\n",
    "G     = c.G.cgs.value\n",
    "k_b   = c.k_B.cgs.value\n",
    "m_p   = c.m_p.cgs.value\n",
    "M_sun = c.M_sun.cgs.value\n",
    "mu    = 2.3"
   ]
  },
  {
   "cell_type": "code",
   "execution_count": 9,
   "metadata": {},
   "outputs": [],
   "source": [
    "def get_disk_height(R):\n",
    "    \"\"\"\n",
    "    calculate disk height profile from temperature model\n",
    "    \"\"\"\n",
    "    M_star = 2.3*M_sun\n",
    "    q      = 0.8\n",
    "    T      = 20 * (R / (100 * au))**-0.8\n",
    "    #T      = 40.12 * (R / (100 * au))**-0.5\n",
    "    cs     = np.sqrt(k_b * T / (mu * m_p))\n",
    "    om     = np.sqrt(G * M_star / R**3)\n",
    "    h      = cs / om\n",
    "    return h"
   ]
  },
  {
   "cell_type": "code",
   "execution_count": 42,
   "metadata": {},
   "outputs": [
    {
     "data": {
      "text/plain": [
       "'16.9'"
      ]
     },
     "execution_count": 42,
     "metadata": {},
     "output_type": "execute_result"
    }
   ],
   "source": [
    "'{:.3g}'.format(1/(get_disk_height(100*au)/100/au))"
   ]
  },
  {
   "cell_type": "code",
   "execution_count": 44,
   "metadata": {},
   "outputs": [],
   "source": [
    "# values for a table\n",
    "# a are h/r and alpha, b are the values labeled in l\n",
    "\n",
    "a = np.array([[get_disk_height(100*au)/100/au,get_disk_height(100*au)/100/au], [1e-2,1e-3]])\n",
    "om = np.sqrt(G*2.3*M_sun/((100*au)**3))\n",
    "\n",
    "b = np.array([np.sqrt(27/8 *np.pi*(a[0]**(5/2)*a[1])), 3*(a[0])**3,\n",
    "              27/8*np.pi/om * 1e-3*a[0],1/(a[1]*om)])\n",
    "l = [r'$q_\\text{crit1}$', r'$q_\\text{crit2}$',r'$t_\\text{open} $',r'$t_\\text{close}$']\n",
    "#b = '{:.3f}'.format(b[:,0])"
   ]
  },
  {
   "cell_type": "code",
   "execution_count": 46,
   "metadata": {},
   "outputs": [],
   "source": [
    "import matplotlib.ticker as mticker\n",
    "\n",
    "f = mticker.ScalarFormatter(useOffset=False, useMathText=True)\n",
    "g = lambda x,pos : \"${}$\".format(f._formatSciNotation('%1.3e' % x))\n",
    "fmt = mticker.FuncFormatter(g)"
   ]
  },
  {
   "cell_type": "code",
   "execution_count": 47,
   "metadata": {},
   "outputs": [
    {
     "name": "stdout",
     "output_type": "stream",
     "text": [
      "$q_\\text{crit1}$ & $9.531{\\times}10^{-3}$ & $3.014{\\times}10^{-3}$\\\\\n",
      "$q_\\text{crit2}$ & $6.259{\\times}10^{-4}$ & $6.259{\\times}10^{-4}$\\\\\n",
      "$t_\\text{open} $ & $2.083{\\times}10^{6}$ & $2.083{\\times}10^{6}$\\\\\n",
      "$t_\\text{close}$ & $3.312{\\times}10^{11}$ & $3.312{\\times}10^{12}$\\\\\n"
     ]
    }
   ],
   "source": [
    "for i in range(4):\n",
    "    print(l[i],'&','{}'.format(fmt(b[i,0])),'&','{}'.format(fmt(b[i,1]))+r'\\\\')"
   ]
  },
  {
   "cell_type": "code",
   "execution_count": null,
   "metadata": {},
   "outputs": [],
   "source": [
    "a = np.array([1, 5, 2 , 7, 5, 1])\n",
    "b = np.array([2])\n",
    "c = (a[:,None] - b[None, :])<b[None,:]\n",
    "m = c.all(1)\n",
    "a[m]"
   ]
  },
  {
   "cell_type": "code",
   "execution_count": null,
   "metadata": {},
   "outputs": [],
   "source": [
    "f=0.1\n",
    "x = np.logspace(-2.5, 1, 500)\n",
    "R=x\n",
    "x"
   ]
  },
  {
   "cell_type": "code",
   "execution_count": null,
   "metadata": {},
   "outputs": [],
   "source": [
    "M_star = M_sun\n",
    "q      = - 2 * f + 1 \n",
    "T      = 20 * (R / (100 * au))**-q\n",
    "cs     = np.sqrt(k_b * T / (mu * m_p))\n",
    "om     = np.sqrt(G * M_star / R**3)\n",
    "h      = cs / om"
   ]
  },
  {
   "cell_type": "code",
   "execution_count": null,
   "metadata": {},
   "outputs": [],
   "source": [
    "#converting flaring index to q\n",
    "#q = - np.log((R*f*om)**2 * mu *m_p/(20 * k_b))/np.log(R/(100*au))\n",
    "# that was wrong\n",
    "q = - 2 * f + 1 \n",
    "q"
   ]
  },
  {
   "cell_type": "code",
   "execution_count": null,
   "metadata": {},
   "outputs": [],
   "source": [
    "import matplotlib.pyplot as plt\n",
    "from simple_slider import get_disk_height\n",
    "a=0\n",
    "fig, ax = plt.subplots(figsize=(12,12))\n",
    "for q in [0.5, 1.5, 5.0]:\n",
    "    ax.loglog(x,(x*(q**2))**-q /10)\n",
    "    a += (x*(q**2))**-q /10\n",
    "ax.loglog(x,a);\n"
   ]
  },
  {
   "cell_type": "code",
   "execution_count": 1,
   "metadata": {},
   "outputs": [
    {
     "data": {
      "text/plain": [
       "array([7, 2, 3, 7])"
      ]
     },
     "execution_count": 1,
     "metadata": {},
     "output_type": "execute_result"
    }
   ],
   "source": [
    "import numpy as np\n",
    "a = np.array([1,2,3,4])\n",
    "mask = [True, False, False, True]\n",
    "a[mask] = 7\n",
    "a"
   ]
  }
 ],
 "metadata": {
  "kernelspec": {
   "display_name": "Python 3",
   "language": "python",
   "name": "python3"
  },
  "language_info": {
   "codemirror_mode": {
    "name": "ipython",
    "version": 3
   },
   "file_extension": ".py",
   "mimetype": "text/x-python",
   "name": "python",
   "nbconvert_exporter": "python",
   "pygments_lexer": "ipython3",
   "version": "3.7.4"
  }
 },
 "nbformat": 4,
 "nbformat_minor": 4
}
