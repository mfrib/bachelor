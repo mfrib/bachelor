{
 "cells": [
  {
   "cell_type": "code",
   "execution_count": null,
   "metadata": {},
   "outputs": [],
   "source": [
    "import numpy as np\n",
    "M = np.array([1.7e-3, 6.75e-4, 1.58e-3, 5.8e-4])\n",
    "\n",
    "M2 = np.array([1.27e-3, 4.99e-4, 1.58e-3, 5.57e-4])\n",
    "M_t = np.array([1e-3, 4e-4,1e-3, 4e-4])\n",
    "r = np.log10(M_t)/np.log10(M2)\n",
    "r"
   ]
  },
  {
   "cell_type": "code",
   "execution_count": null,
   "metadata": {},
   "outputs": [],
   "source": [
    "a = np.array([1, 5, 2 , 7, 5, 1])\n",
    "b = np.array([2])\n",
    "c = (a[:,None] - b[None, :])<b[None,:]\n",
    "m = c.all(1)\n",
    "a[m]"
   ]
  },
  {
   "cell_type": "code",
   "execution_count": null,
   "metadata": {},
   "outputs": [],
   "source": [
    "import astropy.constants as c\n",
    "import numpy as np\n",
    "\n",
    "au    = c.au.cgs.value\n",
    "G     = c.G.cgs.value\n",
    "k_b   = c.k_B.cgs.value\n",
    "m_p   = c.m_p.cgs.value\n",
    "M_sun = c.M_sun.cgs.value\n",
    "mu    = 2.3"
   ]
  },
  {
   "cell_type": "code",
   "execution_count": null,
   "metadata": {},
   "outputs": [],
   "source": [
    "f=0.1\n",
    "x = np.logspace(-2.5, 1, 500)\n",
    "R=x\n",
    "x"
   ]
  },
  {
   "cell_type": "code",
   "execution_count": null,
   "metadata": {},
   "outputs": [],
   "source": [
    "M_star = M_sun\n",
    "q      = - 2 * f + 1 \n",
    "T      = 20 * (R / (100 * au))**-q\n",
    "cs     = np.sqrt(k_b * T / (mu * m_p))\n",
    "om     = np.sqrt(G * M_star / R**3)\n",
    "h      = cs / om"
   ]
  },
  {
   "cell_type": "code",
   "execution_count": null,
   "metadata": {},
   "outputs": [],
   "source": [
    "#converting flaring index to q\n",
    "#q = - np.log((R*f*om)**2 * mu *m_p/(20 * k_b))/np.log(R/(100*au))\n",
    "# that was wrong\n",
    "q = - 2 * f + 1 \n",
    "q"
   ]
  },
  {
   "cell_type": "code",
   "execution_count": null,
   "metadata": {},
   "outputs": [],
   "source": [
    "import matplotlib.pyplot as plt\n",
    "from simple_slider import get_disk_height\n",
    "a=0\n",
    "fig, ax = plt.subplots(figsize=(12,12))\n",
    "for q in [0.5, 1.5, 5.0]:\n",
    "    ax.loglog(x,(x*(q**2))**-q /10)\n",
    "    a += (x*(q**2))**-q /10\n",
    "ax.loglog(x,a);\n"
   ]
  },
  {
   "cell_type": "code",
   "execution_count": 1,
   "metadata": {},
   "outputs": [
    {
     "data": {
      "text/plain": [
       "array([7, 2, 3, 7])"
      ]
     },
     "execution_count": 1,
     "metadata": {},
     "output_type": "execute_result"
    }
   ],
   "source": [
    "import numpy as np\n",
    "a = np.array([1,2,3,4])\n",
    "mask = [True, False, False, True]\n",
    "a[mask] = 7\n",
    "a"
   ]
  }
 ],
 "metadata": {
  "kernelspec": {
   "display_name": "Python 3",
   "language": "python",
   "name": "python3"
  },
  "language_info": {
   "codemirror_mode": {
    "name": "ipython",
    "version": 3
   },
   "file_extension": ".py",
   "mimetype": "text/x-python",
   "name": "python",
   "nbconvert_exporter": "python",
   "pygments_lexer": "ipython3",
   "version": "3.7.4"
  }
 },
 "nbformat": 4,
 "nbformat_minor": 4
}
