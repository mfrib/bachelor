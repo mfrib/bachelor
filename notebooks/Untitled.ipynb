{
 "cells": [
  {
   "cell_type": "code",
   "execution_count": 12,
   "metadata": {},
   "outputs": [
    {
     "data": {
      "text/plain": [
       "array([1.0358414 , 1.02908646, 1.07091495, 1.04418832])"
      ]
     },
     "execution_count": 12,
     "metadata": {},
     "output_type": "execute_result"
    }
   ],
   "source": [
    "import numpy as np\n",
    "M = np.array([1.7e-3, 6.75e-4, 1.58e-3, 5.8e-4])\n",
    "\n",
    "M2 = np.array([1.27e-3, 4.99e-4, 1.58e-3, 5.57e-4])\n",
    "M_t = np.array([1e-3, 4e-4,1e-3, 4e-4])\n",
    "r = np.log10(M_t)/np.log10(M2)\n",
    "r"
   ]
  }
 ],
 "metadata": {
  "kernelspec": {
   "display_name": "Python 3",
   "language": "python",
   "name": "python3"
  },
  "language_info": {
   "codemirror_mode": {
    "name": "ipython",
    "version": 3
   },
   "file_extension": ".py",
   "mimetype": "text/x-python",
   "name": "python",
   "nbconvert_exporter": "python",
   "pygments_lexer": "ipython3",
   "version": "3.7.4"
  }
 },
 "nbformat": 4,
 "nbformat_minor": 4
}
