{
 "cells": [
  {
   "cell_type": "code",
   "execution_count": 1,
   "metadata": {},
   "outputs": [],
   "source": [
    "import numpy as np\n",
    "import astropy.constants as c\n",
    "from simple_slider import get_disk_height"
   ]
  },
  {
   "cell_type": "code",
   "execution_count": 2,
   "metadata": {},
   "outputs": [],
   "source": [
    "au    = c.au.cgs.value\n",
    "G     = c.G.cgs.value\n",
    "k_b   = c.k_B.cgs.value\n",
    "m_p   = c.m_p.cgs.value\n",
    "M_sun = c.M_sun.cgs.value\n",
    "mu    = 2.3"
   ]
  },
  {
   "cell_type": "code",
   "execution_count": 3,
   "metadata": {},
   "outputs": [],
   "source": [
    "def kanagawa_profile_mask(x, alpha, aspect_ratio, mass_ratio):\n",
    "    K_prime = mass_ratio**2 * aspect_ratio**-3 / alpha\n",
    "    K = K_prime / (aspect_ratio**2)\n",
    "    fact_min_0 = 1 / (1 + 0.04 * K)\n",
    "    R1 = (fact_min_0 / 4 + 0.08) * K_prime**(1 / 4)\n",
    "    R2 = 0.33 * K_prime**(1 / 4)\n",
    "    fact = np.ones_like(x)\n",
    "    mask = np.abs(x - 1) < R2\n",
    "    fact[mask] = 4.0 * K_prime**(-1 / 4) * np.abs(x[mask] - 1) - 0.32\n",
    "    fact[np.abs(x - 1) < R1] = fact_min_0\n",
    "    return fact"
   ]
  },
  {
   "cell_type": "code",
   "execution_count": 4,
   "metadata": {},
   "outputs": [],
   "source": [
    "def kanagawa_profile_forloop(x, alpha, aspect_ratio, mass_ratio):\n",
    "    K_prime = mass_ratio**2 * aspect_ratio**-3 / alpha\n",
    "    K = K_prime / (aspect_ratio**2)\n",
    "    fact_min_0 = 1 / (1 + 0.04 * K)\n",
    "    R1 = (fact_min_0 / 4 + 0.08) * K_prime**(1 / 4)\n",
    "    R2 = 0.33 * K_prime**(1 / 4)\n",
    "    fact = np.ones_like(x)\n",
    "    for i in range(len(x)):\n",
    "            if np.abs(x[i] - 1) < R1:\n",
    "                fact[i] = fact_min_0\n",
    "            elif np.abs(x[i] - 1) < R2:\n",
    "                fact[i] = 4.0 * K_prime**(-1/4) * np.abs(x[i] - 1) - 0.32\n",
    "    # sig in units of sig_0\n",
    "    return fact"
   ]
  },
  {
   "cell_type": "code",
   "execution_count": 5,
   "metadata": {},
   "outputs": [],
   "source": [
    "r = np.loadtxt(\"simple_slider_widget/simple_slider/data_1_planet/radius.dat\")\n",
    "x = r / (100*au)\n",
    "ar = get_disk_height(100*au)/100*au"
   ]
  },
  {
   "cell_type": "code",
   "execution_count": 6,
   "metadata": {},
   "outputs": [
    {
     "name": "stdout",
     "output_type": "stream",
     "text": [
      "17.9 µs ± 217 ns per loop (mean ± std. dev. of 7 runs, 100000 loops each)\n"
     ]
    }
   ],
   "source": [
    "%timeit kanagawa_profile_mask(x, 1e-3, ar, 4e-4)"
   ]
  },
  {
   "cell_type": "code",
   "execution_count": 7,
   "metadata": {
    "scrolled": true
   },
   "outputs": [
    {
     "name": "stdout",
     "output_type": "stream",
     "text": [
      "2.37 ms ± 65.8 µs per loop (mean ± std. dev. of 7 runs, 100 loops each)\n"
     ]
    }
   ],
   "source": [
    "%timeit kanagawa_profile_forloop(x, 1e-3, ar, 4e-4)"
   ]
  }
 ],
 "metadata": {
  "kernelspec": {
   "display_name": "Python 3",
   "language": "python",
   "name": "python3"
  },
  "language_info": {
   "codemirror_mode": {
    "name": "ipython",
    "version": 3
   },
   "file_extension": ".py",
   "mimetype": "text/x-python",
   "name": "python",
   "nbconvert_exporter": "python",
   "pygments_lexer": "ipython3",
   "version": "3.7.4"
  }
 },
 "nbformat": 4,
 "nbformat_minor": 4
}
