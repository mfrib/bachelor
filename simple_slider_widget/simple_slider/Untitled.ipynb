{
 "cells": [
  {
   "cell_type": "code",
   "execution_count": 2,
   "metadata": {},
   "outputs": [],
   "source": [
    "import numpy as np\n",
    "import matplotlib.pyplot as plt"
   ]
  },
  {
   "cell_type": "code",
   "execution_count": 3,
   "metadata": {},
   "outputs": [],
   "source": [
    "data_dir = \"data_one_planet_a1e-2_M4e-4/\"\n",
    "r = np.loadtxt(data_dir+\"radius.dat\")\n",
    "phi = np.loadtxt(data_dir+\"phi.dat\")\n",
    "sig = np.loadtxt(data_dir+\"surfacedensity.dat\")\n"
   ]
  },
  {
   "cell_type": "code",
   "execution_count": 4,
   "metadata": {
    "scrolled": true
   },
   "outputs": [],
   "source": [
    "data_dir1 = \"data_one_planet_a1e-2_M1e-3/\"\n",
    "r1 = np.loadtxt(data_dir1+\"radius.dat\")\n",
    "phi1 = np.loadtxt(data_dir1+\"phi.dat\")\n",
    "sig1 = np.loadtxt(data_dir1+\"surfacedensity.dat\")\n"
   ]
  },
  {
   "cell_type": "code",
   "execution_count": 5,
   "metadata": {},
   "outputs": [
    {
     "data": {
      "text/plain": [
       "array([[-0.00453  , -0.0046   , -0.00467  , ..., -0.00432  , -0.00438  ,\n",
       "        -0.00446  ],\n",
       "       [-0.03748  , -0.03717  , -0.03686  , ..., -0.03833  , -0.03806  ,\n",
       "        -0.03777  ],\n",
       "       [ 0.06347  ,  0.06517  ,  0.06685  , ...,  0.05832  ,  0.06005  ,\n",
       "         0.06176  ],\n",
       "       ...,\n",
       "       [ 0.0021341,  0.0022022,  0.0022702, ...,  0.0019295,  0.0019978,\n",
       "         0.002066 ],\n",
       "       [ 0.000997 ,  0.0010698,  0.0011426, ...,  0.0007789,  0.0008516,\n",
       "         0.0009244],\n",
       "       [-0.0002537, -0.0001775, -0.0001011, ..., -0.0004819, -0.0004059,\n",
       "        -0.0003299]])"
      ]
     },
     "execution_count": 5,
     "metadata": {},
     "output_type": "execute_result"
    }
   ],
   "source": [
    "sig - sig1"
   ]
  },
  {
   "cell_type": "code",
   "execution_count": 29,
   "metadata": {},
   "outputs": [
    {
     "data": {
      "text/plain": [
       "1"
      ]
     },
     "execution_count": 29,
     "metadata": {},
     "output_type": "execute_result"
    }
   ],
   "source": [
    "sig_av = np.average(sig,axis=1)\n",
    "sig_av1 = np.average(sig1,axis=1)\n",
    "diff = sig_av - sig_av1\n",
    "sig_av.shape = (1,len(sig_av))\n",
    "sig_av[0]\n",
    "t = [0]\n",
    "len(t)"
   ]
  },
  {
   "cell_type": "code",
   "execution_count": 18,
   "metadata": {},
   "outputs": [
    {
     "data": {
      "image/png": "[encoded data removed]",
      "text/plain": [
       "<Figure size 432x288 with 1 Axes>"
      ]
     },
     "metadata": {
      "needs_background": "light"
     },
     "output_type": "display_data"
    }
   ],
   "source": [
    "import astropy.constants as c\n",
    "au = c.au.cgs.value\n",
    "M_sun = c.M_sun.cgs.value\n",
    "\n",
    "f, ax = plt.subplots()\n",
    "#ax = axes[0]\n",
    "#ax1 = axes[1]\n",
    "M4, = ax.loglog(r / au, sig_av, 'k-')\n",
    "M3, = ax.loglog(r1 / au, sig_av1, 'r')\n",
    "#M5, = ax.loglog(r1 / au, diff, 'b')\n",
    "ax.set_xlabel(r'r [au]')\n",
    "ax.set_ylabel(r'$\\Sigma_\\mathrm{g}$');"
   ]
  },
  {
   "cell_type": "code",
   "execution_count": 8,
   "metadata": {},
   "outputs": [],
   "source": [
    "#np.savetxt(data_dir+\"sigma_averaged.dat\", sig_av, header = 'averaged gas surface density [g/cm^2]')"
   ]
  }
 ],
 "metadata": {
  "kernelspec": {
   "display_name": "Python 3",
   "language": "python",
   "name": "python3"
  },
  "language_info": {
   "codemirror_mode": {
    "name": "ipython",
    "version": 3
   },
   "file_extension": ".py",
   "mimetype": "text/x-python",
   "name": "python",
   "nbconvert_exporter": "python",
   "pygments_lexer": "ipython3",
   "version": "3.7.4"
  }
 },
 "nbformat": 4,
 "nbformat_minor": 4
}
